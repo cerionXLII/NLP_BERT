{
 "cells": [
  {
   "cell_type": "code",
   "execution_count": 1,
   "id": "honest-month",
   "metadata": {},
   "outputs": [],
   "source": [
    "import pandas as pd\n",
    "import numpy as np\n",
    "import torch\n",
    "from transformers import AutoModel, AutoTokenizer\n",
    "from sklearn.model_selection import train_test_split\n",
    "from sklearn.base import BaseEstimator, TransformerMixin\n",
    "from sklearn.pipeline import FeatureUnion, Pipeline\n",
    "from sklearn.multioutput import MultiOutputClassifier\n",
    "from sklearn.ensemble import RandomForestClassifier\n",
    "from sklearn.linear_model import SGDClassifier"
   ]
  },
  {
   "cell_type": "code",
   "execution_count": 2,
   "id": "654b25c2",
   "metadata": {},
   "outputs": [
    {
     "data": {
      "text/plain": [
       "False"
      ]
     },
     "execution_count": 2,
     "metadata": {},
     "output_type": "execute_result"
    }
   ],
   "source": [
    "torch.cuda.is_available()"
   ]
  },
  {
   "cell_type": "code",
   "execution_count": 3,
   "id": "fundamental-settle",
   "metadata": {},
   "outputs": [
    {
     "name": "stderr",
     "output_type": "stream",
     "text": [
      "Some weights of the model checkpoint at KB/bert-base-swedish-cased were not used when initializing BertModel: ['cls.predictions.transform.LayerNorm.bias', 'cls.predictions.transform.LayerNorm.weight', 'cls.predictions.decoder.bias', 'cls.predictions.transform.dense.weight', 'cls.predictions.bias', 'cls.predictions.decoder.weight', 'cls.predictions.transform.dense.bias']\n",
      "- This IS expected if you are initializing BertModel from the checkpoint of a model trained on another task or with another architecture (e.g. initializing a BertForSequenceClassification model from a BertForPreTraining model).\n",
      "- This IS NOT expected if you are initializing BertModel from the checkpoint of a model that you expect to be exactly identical (initializing a BertForSequenceClassification model from a BertForSequenceClassification model).\n"
     ]
    }
   ],
   "source": [
    "#tok = AutoTokenizer.from_pretrained('KB/bert-base-swedish-cased', use_fast=False)\n",
    "#model = AutoModel.from_pretrained('KB/bert-base-swedish-cased')\n"
   ]
  },
  {
   "cell_type": "code",
   "execution_count": 23,
   "id": "c8453e94",
   "metadata": {},
   "outputs": [],
   "source": [
    "#inputs = tok(['hälsa hälsan hälsans'], return_tensors=\"pt\", padding='max_length', max_length = 512, truncation=True)\n",
    "#inputs = tok(X[:10].values.tolist(), return_tensors=\"pt\", padding='max_length', max_length = 512, truncation=True)"
   ]
  },
  {
   "cell_type": "code",
   "execution_count": 25,
   "id": "0ca07efb",
   "metadata": {},
   "outputs": [],
   "source": [
    "#outputs = model(**inputs)\n",
    "#outputs = outputs['pooler_output'].detach().numpy().reshape(X.shape[0], -1)"
   ]
  },
  {
   "cell_type": "code",
   "execution_count": 17,
   "id": "324448c5",
   "metadata": {},
   "outputs": [],
   "source": [
    "class NLPTransformer(TransformerMixin):\n",
    "    def __init__(self):\n",
    "        print('Init called')\n",
    "        self.model_name = 'KB/bert-base-swedish-cased'\n",
    "        self.Bert = AutoModel.from_pretrained(self.model_name)\n",
    "        self.Tokenizer = AutoTokenizer.from_pretrained(self.model_name)\n",
    "        self.batch_size = 10\n",
    "        \n",
    "    def fit(self, X, y=None):\n",
    "        print('Fit called')\n",
    "        \n",
    "        \n",
    "        return self\n",
    "    \n",
    "    def partial_fit(self, X, y=None):\n",
    "        print('Partial Fit called')\n",
    "\n",
    "        return self\n",
    "        \n",
    "    def transform(self, X):\n",
    "        print('Transform Called')\n",
    "       \n",
    "        # Transform input tokens. This is most efficient if done in one batch \n",
    "        inputs = self.Tokenizer(X.values.tolist(), return_tensors=\"pt\", padding='max_length', max_length = 512, truncation=True)\n",
    "\n",
    "        # Run Bert model, We must mini batch this in order to not overflow the memory of the system\n",
    "        transformed = []\n",
    "        \n",
    "        batches = int(np.ceil(X.shape[0] / self.batch_size))\n",
    "        for batchId in range(batches):\n",
    "            print(f'Running batch {batchId+1}/{batches}')\n",
    "        \n",
    "            inputs_batch = {}\n",
    "            for key in inputs.keys():\n",
    "                inputs_batch[key] = inputs[key][batchId * self.batch_size:(batchId + 1) * self.batch_size]\n",
    "\n",
    "            outputs = self.Bert(**inputs_batch)\n",
    "            outputs = outputs['pooler_output'].detach().numpy()\n",
    "            print(f'output shape: {outputs.shape}')\n",
    "            transformed.extend(outputs)\n",
    "        \n",
    "        transformed = np.array(transformed)\n",
    "        print(f'transformed.shape: {transformed.shape}')\n",
    "        \n",
    "        return transformed"
   ]
  },
  {
   "cell_type": "code",
   "execution_count": 5,
   "id": "9cafdffc",
   "metadata": {},
   "outputs": [
    {
     "name": "stdout",
     "output_type": "stream",
     "text": [
      "Init called\n"
     ]
    },
    {
     "name": "stderr",
     "output_type": "stream",
     "text": [
      "Some weights of the model checkpoint at KB/bert-base-swedish-cased were not used when initializing BertModel: ['cls.predictions.decoder.bias', 'cls.predictions.decoder.weight', 'cls.predictions.transform.dense.bias', 'cls.predictions.transform.dense.weight', 'cls.predictions.transform.LayerNorm.bias', 'cls.predictions.transform.LayerNorm.weight', 'cls.predictions.bias']\n",
      "- This IS expected if you are initializing BertModel from the checkpoint of a model trained on another task or with another architecture (e.g. initializing a BertForSequenceClassification model from a BertForPreTraining model).\n",
      "- This IS NOT expected if you are initializing BertModel from the checkpoint of a model that you expect to be exactly identical (initializing a BertForSequenceClassification model from a BertForSequenceClassification model).\n"
     ]
    }
   ],
   "source": [
    "pipeline = Pipeline([    \n",
    "            ('nlpTransformer', NLPTransformer()),\n",
    "            ('clf', RandomForestClassifier())])"
   ]
  },
  {
   "cell_type": "code",
   "execution_count": null,
   "id": "361dd2e3",
   "metadata": {},
   "outputs": [],
   "source": [
    "#Read the data"
   ]
  },
  {
   "cell_type": "code",
   "execution_count": 4,
   "id": "regional-tunnel",
   "metadata": {},
   "outputs": [],
   "source": [
    "df = pd.read_csv('../data/bbc-text.csv')"
   ]
  },
  {
   "cell_type": "code",
   "execution_count": 5,
   "id": "herbal-extraction",
   "metadata": {},
   "outputs": [
    {
     "data": {
      "text/html": [
       "<div>\n",
       "<style scoped>\n",
       "    .dataframe tbody tr th:only-of-type {\n",
       "        vertical-align: middle;\n",
       "    }\n",
       "\n",
       "    .dataframe tbody tr th {\n",
       "        vertical-align: top;\n",
       "    }\n",
       "\n",
       "    .dataframe thead th {\n",
       "        text-align: right;\n",
       "    }\n",
       "</style>\n",
       "<table border=\"1\" class=\"dataframe\">\n",
       "  <thead>\n",
       "    <tr style=\"text-align: right;\">\n",
       "      <th></th>\n",
       "      <th>category</th>\n",
       "      <th>text</th>\n",
       "    </tr>\n",
       "  </thead>\n",
       "  <tbody>\n",
       "    <tr>\n",
       "      <th>0</th>\n",
       "      <td>tech</td>\n",
       "      <td>tv future in the hands of viewers with home th...</td>\n",
       "    </tr>\n",
       "    <tr>\n",
       "      <th>1</th>\n",
       "      <td>business</td>\n",
       "      <td>worldcom boss  left books alone  former worldc...</td>\n",
       "    </tr>\n",
       "    <tr>\n",
       "      <th>2</th>\n",
       "      <td>sport</td>\n",
       "      <td>tigers wary of farrell  gamble  leicester say ...</td>\n",
       "    </tr>\n",
       "    <tr>\n",
       "      <th>3</th>\n",
       "      <td>sport</td>\n",
       "      <td>yeading face newcastle in fa cup premiership s...</td>\n",
       "    </tr>\n",
       "    <tr>\n",
       "      <th>4</th>\n",
       "      <td>entertainment</td>\n",
       "      <td>ocean s twelve raids box office ocean s twelve...</td>\n",
       "    </tr>\n",
       "  </tbody>\n",
       "</table>\n",
       "</div>"
      ],
      "text/plain": [
       "        category                                               text\n",
       "0           tech  tv future in the hands of viewers with home th...\n",
       "1       business  worldcom boss  left books alone  former worldc...\n",
       "2          sport  tigers wary of farrell  gamble  leicester say ...\n",
       "3          sport  yeading face newcastle in fa cup premiership s...\n",
       "4  entertainment  ocean s twelve raids box office ocean s twelve..."
      ]
     },
     "execution_count": 5,
     "metadata": {},
     "output_type": "execute_result"
    }
   ],
   "source": [
    "df.head()"
   ]
  },
  {
   "cell_type": "code",
   "execution_count": 6,
   "id": "introductory-crawford",
   "metadata": {},
   "outputs": [
    {
     "data": {
      "text/plain": [
       "array(['tech', 'business', 'sport', 'entertainment', 'politics'],\n",
       "      dtype=object)"
      ]
     },
     "execution_count": 6,
     "metadata": {},
     "output_type": "execute_result"
    }
   ],
   "source": [
    "df['category'].unique()"
   ]
  },
  {
   "cell_type": "code",
   "execution_count": 7,
   "id": "czech-remove",
   "metadata": {},
   "outputs": [],
   "source": [
    "df2 = pd.get_dummies(df, columns=['category'])"
   ]
  },
  {
   "cell_type": "code",
   "execution_count": 8,
   "id": "secure-wiring",
   "metadata": {},
   "outputs": [],
   "source": [
    "X = df2['text']"
   ]
  },
  {
   "cell_type": "code",
   "execution_count": 9,
   "id": "canadian-eight",
   "metadata": {},
   "outputs": [],
   "source": [
    "Y = df2.drop(columns=['text'])"
   ]
  },
  {
   "cell_type": "code",
   "execution_count": 10,
   "id": "bizarre-blackberry",
   "metadata": {},
   "outputs": [
    {
     "data": {
      "text/plain": [
       "0    tv future in the hands of viewers with home th...\n",
       "1    worldcom boss  left books alone  former worldc...\n",
       "2    tigers wary of farrell  gamble  leicester say ...\n",
       "3    yeading face newcastle in fa cup premiership s...\n",
       "4    ocean s twelve raids box office ocean s twelve...\n",
       "Name: text, dtype: object"
      ]
     },
     "execution_count": 10,
     "metadata": {},
     "output_type": "execute_result"
    }
   ],
   "source": [
    "X.head()"
   ]
  },
  {
   "cell_type": "code",
   "execution_count": 11,
   "id": "vulnerable-drive",
   "metadata": {},
   "outputs": [
    {
     "data": {
      "text/html": [
       "<div>\n",
       "<style scoped>\n",
       "    .dataframe tbody tr th:only-of-type {\n",
       "        vertical-align: middle;\n",
       "    }\n",
       "\n",
       "    .dataframe tbody tr th {\n",
       "        vertical-align: top;\n",
       "    }\n",
       "\n",
       "    .dataframe thead th {\n",
       "        text-align: right;\n",
       "    }\n",
       "</style>\n",
       "<table border=\"1\" class=\"dataframe\">\n",
       "  <thead>\n",
       "    <tr style=\"text-align: right;\">\n",
       "      <th></th>\n",
       "      <th>category_business</th>\n",
       "      <th>category_entertainment</th>\n",
       "      <th>category_politics</th>\n",
       "      <th>category_sport</th>\n",
       "      <th>category_tech</th>\n",
       "    </tr>\n",
       "  </thead>\n",
       "  <tbody>\n",
       "    <tr>\n",
       "      <th>0</th>\n",
       "      <td>0</td>\n",
       "      <td>0</td>\n",
       "      <td>0</td>\n",
       "      <td>0</td>\n",
       "      <td>1</td>\n",
       "    </tr>\n",
       "    <tr>\n",
       "      <th>1</th>\n",
       "      <td>1</td>\n",
       "      <td>0</td>\n",
       "      <td>0</td>\n",
       "      <td>0</td>\n",
       "      <td>0</td>\n",
       "    </tr>\n",
       "    <tr>\n",
       "      <th>2</th>\n",
       "      <td>0</td>\n",
       "      <td>0</td>\n",
       "      <td>0</td>\n",
       "      <td>1</td>\n",
       "      <td>0</td>\n",
       "    </tr>\n",
       "    <tr>\n",
       "      <th>3</th>\n",
       "      <td>0</td>\n",
       "      <td>0</td>\n",
       "      <td>0</td>\n",
       "      <td>1</td>\n",
       "      <td>0</td>\n",
       "    </tr>\n",
       "    <tr>\n",
       "      <th>4</th>\n",
       "      <td>0</td>\n",
       "      <td>1</td>\n",
       "      <td>0</td>\n",
       "      <td>0</td>\n",
       "      <td>0</td>\n",
       "    </tr>\n",
       "  </tbody>\n",
       "</table>\n",
       "</div>"
      ],
      "text/plain": [
       "   category_business  category_entertainment  category_politics  \\\n",
       "0                  0                       0                  0   \n",
       "1                  1                       0                  0   \n",
       "2                  0                       0                  0   \n",
       "3                  0                       0                  0   \n",
       "4                  0                       1                  0   \n",
       "\n",
       "   category_sport  category_tech  \n",
       "0               0              1  \n",
       "1               0              0  \n",
       "2               1              0  \n",
       "3               1              0  \n",
       "4               0              0  "
      ]
     },
     "execution_count": 11,
     "metadata": {},
     "output_type": "execute_result"
    }
   ],
   "source": [
    "Y.head()"
   ]
  },
  {
   "cell_type": "code",
   "execution_count": 12,
   "id": "cc6c54c8",
   "metadata": {},
   "outputs": [],
   "source": [
    "#Test train split"
   ]
  },
  {
   "cell_type": "code",
   "execution_count": 13,
   "id": "ae246c62",
   "metadata": {},
   "outputs": [],
   "source": [
    "X_train, X_test, Y_train, Y_test = train_test_split(X, Y, test_size=0.2, random_state=42)"
   ]
  },
  {
   "cell_type": "code",
   "execution_count": 14,
   "id": "f39657ef",
   "metadata": {},
   "outputs": [
    {
     "data": {
      "text/plain": [
       "(1780,)"
      ]
     },
     "execution_count": 14,
     "metadata": {},
     "output_type": "execute_result"
    }
   ],
   "source": [
    "X_train.shape"
   ]
  },
  {
   "cell_type": "code",
   "execution_count": 17,
   "id": "63e9fcc4",
   "metadata": {},
   "outputs": [
    {
     "data": {
      "text/html": [
       "<div>\n",
       "<style scoped>\n",
       "    .dataframe tbody tr th:only-of-type {\n",
       "        vertical-align: middle;\n",
       "    }\n",
       "\n",
       "    .dataframe tbody tr th {\n",
       "        vertical-align: top;\n",
       "    }\n",
       "\n",
       "    .dataframe thead th {\n",
       "        text-align: right;\n",
       "    }\n",
       "</style>\n",
       "<table border=\"1\" class=\"dataframe\">\n",
       "  <thead>\n",
       "    <tr style=\"text-align: right;\">\n",
       "      <th></th>\n",
       "      <th>category_business</th>\n",
       "      <th>category_entertainment</th>\n",
       "      <th>category_politics</th>\n",
       "      <th>category_sport</th>\n",
       "      <th>category_tech</th>\n",
       "    </tr>\n",
       "  </thead>\n",
       "  <tbody>\n",
       "    <tr>\n",
       "      <th>1490</th>\n",
       "      <td>0</td>\n",
       "      <td>1</td>\n",
       "      <td>0</td>\n",
       "      <td>0</td>\n",
       "      <td>0</td>\n",
       "    </tr>\n",
       "    <tr>\n",
       "      <th>2001</th>\n",
       "      <td>1</td>\n",
       "      <td>0</td>\n",
       "      <td>0</td>\n",
       "      <td>0</td>\n",
       "      <td>0</td>\n",
       "    </tr>\n",
       "    <tr>\n",
       "      <th>1572</th>\n",
       "      <td>1</td>\n",
       "      <td>0</td>\n",
       "      <td>0</td>\n",
       "      <td>0</td>\n",
       "      <td>0</td>\n",
       "    </tr>\n",
       "    <tr>\n",
       "      <th>1840</th>\n",
       "      <td>0</td>\n",
       "      <td>1</td>\n",
       "      <td>0</td>\n",
       "      <td>0</td>\n",
       "      <td>0</td>\n",
       "    </tr>\n",
       "    <tr>\n",
       "      <th>610</th>\n",
       "      <td>0</td>\n",
       "      <td>0</td>\n",
       "      <td>0</td>\n",
       "      <td>0</td>\n",
       "      <td>1</td>\n",
       "    </tr>\n",
       "  </tbody>\n",
       "</table>\n",
       "</div>"
      ],
      "text/plain": [
       "      category_business  category_entertainment  category_politics  \\\n",
       "1490                  0                       1                  0   \n",
       "2001                  1                       0                  0   \n",
       "1572                  1                       0                  0   \n",
       "1840                  0                       1                  0   \n",
       "610                   0                       0                  0   \n",
       "\n",
       "      category_sport  category_tech  \n",
       "1490               0              0  \n",
       "2001               0              0  \n",
       "1572               0              0  \n",
       "1840               0              0  \n",
       "610                0              1  "
      ]
     },
     "execution_count": 17,
     "metadata": {},
     "output_type": "execute_result"
    }
   ],
   "source": [
    "Y_train[:5]"
   ]
  },
  {
   "cell_type": "code",
   "execution_count": 18,
   "id": "2917a66e",
   "metadata": {},
   "outputs": [],
   "source": [
    "class MiniBatcher():\n",
    "    def __init__(self, X, Y, batch_size=100, max_epochs=1):\n",
    "        self.X = X\n",
    "        self.Y = Y\n",
    "        self.batch_size = batch_size\n",
    "        self.max_epochs = max_epochs\n",
    "        self.batchId = 0\n",
    "        self.epochId = 0\n",
    "        \n",
    "    def getBatchIterator(self):\n",
    "        self.batchId = 0\n",
    "        self.epochId = 0\n",
    "        \n",
    "        while True:\n",
    "            X_mini = X[self.batchId * self.batch_size:(self.batchId + 1) * self.batch_size]\n",
    "            Y_mini = Y[self.batchId * self.batch_size:(self.batchId + 1) * self.batch_size]\n",
    "            self.batchId += 1\n",
    "            print(self.batchId, self.epochId)\n",
    "            print(len(X_mini))\n",
    "            if len(X_mini) < self.batch_size:\n",
    "                self.epochId += 1\n",
    "                self.batchId = 0\n",
    "                if self.epochId <= self.max_epochs:\n",
    "                    print('will break')\n",
    "                    break\n",
    "            \n",
    "            yield X_mini, Y_mini\n",
    "            \n"
   ]
  },
  {
   "cell_type": "code",
   "execution_count": 100,
   "id": "fa29db12",
   "metadata": {},
   "outputs": [],
   "source": [
    "mMiniBatcher = MiniBatcher(X_train, Y_train)"
   ]
  },
  {
   "cell_type": "code",
   "execution_count": 101,
   "id": "c8d306ae",
   "metadata": {},
   "outputs": [],
   "source": [
    "batchIterator = mMiniBatcher.getBatchIterator()"
   ]
  },
  {
   "cell_type": "code",
   "execution_count": 130,
   "id": "stone-november",
   "metadata": {},
   "outputs": [
    {
     "name": "stdout",
     "output_type": "stream",
     "text": [
      "Fit called\n",
      "Transform Called\n",
      "Running batch 1/150\n",
      "output shape: (10, 768)\n",
      "Running batch 2/150\n",
      "output shape: (10, 768)\n",
      "Running batch 3/150\n",
      "output shape: (10, 768)\n",
      "Running batch 4/150\n",
      "output shape: (10, 768)\n",
      "Running batch 5/150\n",
      "output shape: (10, 768)\n",
      "Running batch 6/150\n",
      "output shape: (10, 768)\n",
      "Running batch 7/150\n",
      "output shape: (10, 768)\n",
      "Running batch 8/150\n",
      "output shape: (10, 768)\n",
      "Running batch 9/150\n",
      "output shape: (10, 768)\n",
      "Running batch 10/150\n",
      "output shape: (10, 768)\n",
      "Running batch 11/150\n",
      "output shape: (10, 768)\n",
      "Running batch 12/150\n",
      "output shape: (10, 768)\n",
      "Running batch 13/150\n",
      "output shape: (10, 768)\n",
      "Running batch 14/150\n",
      "output shape: (10, 768)\n",
      "Running batch 15/150\n",
      "output shape: (10, 768)\n",
      "Running batch 16/150\n",
      "output shape: (10, 768)\n",
      "Running batch 17/150\n",
      "output shape: (10, 768)\n",
      "Running batch 18/150\n",
      "output shape: (10, 768)\n",
      "Running batch 19/150\n",
      "output shape: (10, 768)\n",
      "Running batch 20/150\n",
      "output shape: (10, 768)\n",
      "Running batch 21/150\n",
      "output shape: (10, 768)\n",
      "Running batch 22/150\n",
      "output shape: (10, 768)\n",
      "Running batch 23/150\n",
      "output shape: (10, 768)\n",
      "Running batch 24/150\n",
      "output shape: (10, 768)\n",
      "Running batch 25/150\n",
      "output shape: (10, 768)\n",
      "Running batch 26/150\n",
      "output shape: (10, 768)\n",
      "Running batch 27/150\n",
      "output shape: (10, 768)\n",
      "Running batch 28/150\n",
      "output shape: (10, 768)\n",
      "Running batch 29/150\n",
      "output shape: (10, 768)\n",
      "Running batch 30/150\n",
      "output shape: (10, 768)\n",
      "Running batch 31/150\n",
      "output shape: (10, 768)\n",
      "Running batch 32/150\n",
      "output shape: (10, 768)\n",
      "Running batch 33/150\n",
      "output shape: (10, 768)\n",
      "Running batch 34/150\n",
      "output shape: (10, 768)\n",
      "Running batch 35/150\n",
      "output shape: (10, 768)\n",
      "Running batch 36/150\n",
      "output shape: (10, 768)\n",
      "Running batch 37/150\n",
      "output shape: (10, 768)\n",
      "Running batch 38/150\n",
      "output shape: (10, 768)\n",
      "Running batch 39/150\n",
      "output shape: (10, 768)\n",
      "Running batch 40/150\n",
      "output shape: (10, 768)\n",
      "Running batch 41/150\n",
      "output shape: (10, 768)\n",
      "Running batch 42/150\n",
      "output shape: (10, 768)\n",
      "Running batch 43/150\n",
      "output shape: (10, 768)\n",
      "Running batch 44/150\n",
      "output shape: (10, 768)\n",
      "Running batch 45/150\n",
      "output shape: (10, 768)\n",
      "Running batch 46/150\n",
      "output shape: (10, 768)\n",
      "Running batch 47/150\n",
      "output shape: (10, 768)\n",
      "Running batch 48/150\n",
      "output shape: (10, 768)\n",
      "Running batch 49/150\n",
      "output shape: (10, 768)\n",
      "Running batch 50/150\n",
      "output shape: (10, 768)\n",
      "Running batch 51/150\n",
      "output shape: (10, 768)\n",
      "Running batch 52/150\n",
      "output shape: (10, 768)\n",
      "Running batch 53/150\n",
      "output shape: (10, 768)\n",
      "Running batch 54/150\n",
      "output shape: (10, 768)\n",
      "Running batch 55/150\n",
      "output shape: (10, 768)\n",
      "Running batch 56/150\n",
      "output shape: (10, 768)\n",
      "Running batch 57/150\n",
      "output shape: (10, 768)\n",
      "Running batch 58/150\n",
      "output shape: (10, 768)\n",
      "Running batch 59/150\n",
      "output shape: (10, 768)\n",
      "Running batch 60/150\n",
      "output shape: (10, 768)\n",
      "Running batch 61/150\n",
      "output shape: (10, 768)\n",
      "Running batch 62/150\n",
      "output shape: (10, 768)\n",
      "Running batch 63/150\n",
      "output shape: (10, 768)\n",
      "Running batch 64/150\n",
      "output shape: (10, 768)\n",
      "Running batch 65/150\n",
      "output shape: (10, 768)\n",
      "Running batch 66/150\n",
      "output shape: (10, 768)\n",
      "Running batch 67/150\n",
      "output shape: (10, 768)\n",
      "Running batch 68/150\n",
      "output shape: (10, 768)\n",
      "Running batch 69/150\n",
      "output shape: (10, 768)\n",
      "Running batch 70/150\n",
      "output shape: (10, 768)\n",
      "Running batch 71/150\n",
      "output shape: (10, 768)\n",
      "Running batch 72/150\n",
      "output shape: (10, 768)\n",
      "Running batch 73/150\n",
      "output shape: (10, 768)\n",
      "Running batch 74/150\n",
      "output shape: (10, 768)\n",
      "Running batch 75/150\n",
      "output shape: (10, 768)\n",
      "Running batch 76/150\n",
      "output shape: (10, 768)\n",
      "Running batch 77/150\n",
      "output shape: (10, 768)\n",
      "Running batch 78/150\n",
      "output shape: (10, 768)\n",
      "Running batch 79/150\n",
      "output shape: (10, 768)\n",
      "Running batch 80/150\n",
      "output shape: (10, 768)\n",
      "Running batch 81/150\n",
      "output shape: (10, 768)\n",
      "Running batch 82/150\n",
      "output shape: (10, 768)\n",
      "Running batch 83/150\n",
      "output shape: (10, 768)\n",
      "Running batch 84/150\n",
      "output shape: (10, 768)\n",
      "Running batch 85/150\n",
      "output shape: (10, 768)\n",
      "Running batch 86/150\n",
      "output shape: (10, 768)\n",
      "Running batch 87/150\n",
      "output shape: (10, 768)\n",
      "Running batch 88/150\n",
      "output shape: (10, 768)\n",
      "Running batch 89/150\n",
      "output shape: (10, 768)\n",
      "Running batch 90/150\n",
      "output shape: (10, 768)\n",
      "Running batch 91/150\n",
      "output shape: (10, 768)\n",
      "Running batch 92/150\n",
      "output shape: (10, 768)\n",
      "Running batch 93/150\n",
      "output shape: (10, 768)\n",
      "Running batch 94/150\n",
      "output shape: (10, 768)\n",
      "Running batch 95/150\n",
      "output shape: (10, 768)\n",
      "Running batch 96/150\n",
      "output shape: (10, 768)\n",
      "Running batch 97/150\n",
      "output shape: (10, 768)\n",
      "Running batch 98/150\n",
      "output shape: (10, 768)\n",
      "Running batch 99/150\n",
      "output shape: (10, 768)\n",
      "Running batch 100/150\n",
      "output shape: (10, 768)\n",
      "Running batch 101/150\n",
      "output shape: (10, 768)\n",
      "Running batch 102/150\n",
      "output shape: (10, 768)\n",
      "Running batch 103/150\n",
      "output shape: (10, 768)\n",
      "Running batch 104/150\n",
      "output shape: (10, 768)\n",
      "Running batch 105/150\n",
      "output shape: (10, 768)\n",
      "Running batch 106/150\n",
      "output shape: (10, 768)\n",
      "Running batch 107/150\n",
      "output shape: (10, 768)\n",
      "Running batch 108/150\n",
      "output shape: (10, 768)\n",
      "Running batch 109/150\n",
      "output shape: (10, 768)\n",
      "Running batch 110/150\n",
      "output shape: (10, 768)\n",
      "Running batch 111/150\n",
      "output shape: (10, 768)\n",
      "Running batch 112/150\n",
      "output shape: (10, 768)\n",
      "Running batch 113/150\n",
      "output shape: (10, 768)\n",
      "Running batch 114/150\n",
      "output shape: (10, 768)\n",
      "Running batch 115/150\n",
      "output shape: (10, 768)\n",
      "Running batch 116/150\n",
      "output shape: (10, 768)\n",
      "Running batch 117/150\n",
      "output shape: (10, 768)\n",
      "Running batch 118/150\n",
      "output shape: (10, 768)\n",
      "Running batch 119/150\n",
      "output shape: (10, 768)\n",
      "Running batch 120/150\n",
      "output shape: (10, 768)\n",
      "Running batch 121/150\n",
      "output shape: (10, 768)\n",
      "Running batch 122/150\n",
      "output shape: (10, 768)\n",
      "Running batch 123/150\n",
      "output shape: (10, 768)\n",
      "Running batch 124/150\n",
      "output shape: (10, 768)\n",
      "Running batch 125/150\n",
      "output shape: (10, 768)\n",
      "Running batch 126/150\n",
      "output shape: (10, 768)\n",
      "Running batch 127/150\n",
      "output shape: (10, 768)\n",
      "Running batch 128/150\n",
      "output shape: (10, 768)\n",
      "Running batch 129/150\n",
      "output shape: (10, 768)\n",
      "Running batch 130/150\n",
      "output shape: (10, 768)\n",
      "Running batch 131/150\n",
      "output shape: (10, 768)\n",
      "Running batch 132/150\n",
      "output shape: (10, 768)\n",
      "Running batch 133/150\n",
      "output shape: (10, 768)\n",
      "Running batch 134/150\n",
      "output shape: (10, 768)\n",
      "Running batch 135/150\n",
      "output shape: (10, 768)\n",
      "Running batch 136/150\n",
      "output shape: (10, 768)\n",
      "Running batch 137/150\n",
      "output shape: (10, 768)\n",
      "Running batch 138/150\n",
      "output shape: (10, 768)\n",
      "Running batch 139/150\n",
      "output shape: (10, 768)\n",
      "Running batch 140/150\n",
      "output shape: (10, 768)\n",
      "Running batch 141/150\n",
      "output shape: (10, 768)\n",
      "Running batch 142/150\n",
      "output shape: (10, 768)\n",
      "Running batch 143/150\n",
      "output shape: (10, 768)\n",
      "Running batch 144/150\n",
      "output shape: (10, 768)\n",
      "Running batch 145/150\n",
      "output shape: (10, 768)\n",
      "Running batch 146/150\n",
      "output shape: (10, 768)\n",
      "Running batch 147/150\n",
      "output shape: (10, 768)\n",
      "Running batch 148/150\n",
      "output shape: (10, 768)\n",
      "Running batch 149/150\n",
      "output shape: (10, 768)\n",
      "Running batch 150/150\n",
      "output shape: (10, 768)\n",
      "transformed.shape: (1500, 768)\n"
     ]
    }
   ],
   "source": [
    "#Train the model\n",
    "#output = pipeline.fit(X_train[:25], Y_train[:25].values)\n",
    "output = pipeline.fit(X_train[:1500], Y_train[:1500].values)"
   ]
  },
  {
   "cell_type": "code",
   "execution_count": 131,
   "id": "c8197ada",
   "metadata": {},
   "outputs": [
    {
     "name": "stdout",
     "output_type": "stream",
     "text": [
      "Transform Called\n",
      "Running batch 1/1\n",
      "output shape: (10, 768)\n",
      "transformed.shape: (10, 768)\n"
     ]
    },
    {
     "data": {
      "text/plain": [
       "array([[0, 0, 0, 0, 0],\n",
       "       [1, 0, 0, 0, 0],\n",
       "       [0, 1, 0, 0, 0],\n",
       "       [0, 0, 0, 0, 1],\n",
       "       [0, 0, 0, 1, 0],\n",
       "       [0, 0, 0, 0, 0],\n",
       "       [1, 0, 0, 0, 0],\n",
       "       [0, 0, 0, 0, 0],\n",
       "       [0, 0, 0, 1, 0],\n",
       "       [0, 0, 0, 0, 0]], dtype=uint8)"
      ]
     },
     "execution_count": 131,
     "metadata": {},
     "output_type": "execute_result"
    }
   ],
   "source": [
    "output.predict(X_test[:10])"
   ]
  },
  {
   "cell_type": "code",
   "execution_count": 135,
   "id": "88fe5703",
   "metadata": {},
   "outputs": [
    {
     "name": "stdout",
     "output_type": "stream",
     "text": [
      "Transform Called\n",
      "Running batch 1/2\n",
      "output shape: (10, 768)\n",
      "Running batch 2/2\n",
      "output shape: (5, 768)\n",
      "transformed.shape: (15, 768)\n"
     ]
    }
   ],
   "source": [
    "probs = output.predict_proba(X_test[:15])"
   ]
  },
  {
   "cell_type": "code",
   "execution_count": 53,
   "id": "fe5a118a",
   "metadata": {},
   "outputs": [
    {
     "data": {
      "text/plain": [
       "array([[0, 0, 1, 0, 0],\n",
       "       [1, 0, 0, 0, 0],\n",
       "       [0, 1, 0, 0, 0]], dtype=uint8)"
      ]
     },
     "execution_count": 53,
     "metadata": {},
     "output_type": "execute_result"
    }
   ],
   "source": [
    "Y_test[:3].values"
   ]
  },
  {
   "cell_type": "code",
   "execution_count": 134,
   "id": "5f1fd93c",
   "metadata": {},
   "outputs": [
    {
     "data": {
      "text/html": [
       "<div>\n",
       "<style scoped>\n",
       "    .dataframe tbody tr th:only-of-type {\n",
       "        vertical-align: middle;\n",
       "    }\n",
       "\n",
       "    .dataframe tbody tr th {\n",
       "        vertical-align: top;\n",
       "    }\n",
       "\n",
       "    .dataframe thead th {\n",
       "        text-align: right;\n",
       "    }\n",
       "</style>\n",
       "<table border=\"1\" class=\"dataframe\">\n",
       "  <thead>\n",
       "    <tr style=\"text-align: right;\">\n",
       "      <th></th>\n",
       "      <th>category_business</th>\n",
       "      <th>category_entertainment</th>\n",
       "      <th>category_politics</th>\n",
       "      <th>category_sport</th>\n",
       "      <th>category_tech</th>\n",
       "    </tr>\n",
       "  </thead>\n",
       "  <tbody>\n",
       "    <tr>\n",
       "      <th>414</th>\n",
       "      <td>0</td>\n",
       "      <td>0</td>\n",
       "      <td>1</td>\n",
       "      <td>0</td>\n",
       "      <td>0</td>\n",
       "    </tr>\n",
       "    <tr>\n",
       "      <th>420</th>\n",
       "      <td>1</td>\n",
       "      <td>0</td>\n",
       "      <td>0</td>\n",
       "      <td>0</td>\n",
       "      <td>0</td>\n",
       "    </tr>\n",
       "    <tr>\n",
       "      <th>1644</th>\n",
       "      <td>0</td>\n",
       "      <td>1</td>\n",
       "      <td>0</td>\n",
       "      <td>0</td>\n",
       "      <td>0</td>\n",
       "    </tr>\n",
       "    <tr>\n",
       "      <th>416</th>\n",
       "      <td>0</td>\n",
       "      <td>0</td>\n",
       "      <td>0</td>\n",
       "      <td>0</td>\n",
       "      <td>1</td>\n",
       "    </tr>\n",
       "    <tr>\n",
       "      <th>1232</th>\n",
       "      <td>0</td>\n",
       "      <td>0</td>\n",
       "      <td>0</td>\n",
       "      <td>1</td>\n",
       "      <td>0</td>\n",
       "    </tr>\n",
       "    <tr>\n",
       "      <th>1544</th>\n",
       "      <td>1</td>\n",
       "      <td>0</td>\n",
       "      <td>0</td>\n",
       "      <td>0</td>\n",
       "      <td>0</td>\n",
       "    </tr>\n",
       "    <tr>\n",
       "      <th>1748</th>\n",
       "      <td>1</td>\n",
       "      <td>0</td>\n",
       "      <td>0</td>\n",
       "      <td>0</td>\n",
       "      <td>0</td>\n",
       "    </tr>\n",
       "    <tr>\n",
       "      <th>1264</th>\n",
       "      <td>0</td>\n",
       "      <td>0</td>\n",
       "      <td>0</td>\n",
       "      <td>1</td>\n",
       "      <td>0</td>\n",
       "    </tr>\n",
       "    <tr>\n",
       "      <th>629</th>\n",
       "      <td>0</td>\n",
       "      <td>0</td>\n",
       "      <td>0</td>\n",
       "      <td>1</td>\n",
       "      <td>0</td>\n",
       "    </tr>\n",
       "    <tr>\n",
       "      <th>1043</th>\n",
       "      <td>0</td>\n",
       "      <td>0</td>\n",
       "      <td>0</td>\n",
       "      <td>0</td>\n",
       "      <td>1</td>\n",
       "    </tr>\n",
       "    <tr>\n",
       "      <th>298</th>\n",
       "      <td>0</td>\n",
       "      <td>1</td>\n",
       "      <td>0</td>\n",
       "      <td>0</td>\n",
       "      <td>0</td>\n",
       "    </tr>\n",
       "    <tr>\n",
       "      <th>582</th>\n",
       "      <td>0</td>\n",
       "      <td>1</td>\n",
       "      <td>0</td>\n",
       "      <td>0</td>\n",
       "      <td>0</td>\n",
       "    </tr>\n",
       "    <tr>\n",
       "      <th>1480</th>\n",
       "      <td>0</td>\n",
       "      <td>1</td>\n",
       "      <td>0</td>\n",
       "      <td>0</td>\n",
       "      <td>0</td>\n",
       "    </tr>\n",
       "    <tr>\n",
       "      <th>383</th>\n",
       "      <td>0</td>\n",
       "      <td>1</td>\n",
       "      <td>0</td>\n",
       "      <td>0</td>\n",
       "      <td>0</td>\n",
       "    </tr>\n",
       "    <tr>\n",
       "      <th>555</th>\n",
       "      <td>0</td>\n",
       "      <td>1</td>\n",
       "      <td>0</td>\n",
       "      <td>0</td>\n",
       "      <td>0</td>\n",
       "    </tr>\n",
       "  </tbody>\n",
       "</table>\n",
       "</div>"
      ],
      "text/plain": [
       "      category_business  category_entertainment  category_politics  \\\n",
       "414                   0                       0                  1   \n",
       "420                   1                       0                  0   \n",
       "1644                  0                       1                  0   \n",
       "416                   0                       0                  0   \n",
       "1232                  0                       0                  0   \n",
       "1544                  1                       0                  0   \n",
       "1748                  1                       0                  0   \n",
       "1264                  0                       0                  0   \n",
       "629                   0                       0                  0   \n",
       "1043                  0                       0                  0   \n",
       "298                   0                       1                  0   \n",
       "582                   0                       1                  0   \n",
       "1480                  0                       1                  0   \n",
       "383                   0                       1                  0   \n",
       "555                   0                       1                  0   \n",
       "\n",
       "      category_sport  category_tech  \n",
       "414                0              0  \n",
       "420                0              0  \n",
       "1644               0              0  \n",
       "416                0              1  \n",
       "1232               1              0  \n",
       "1544               0              0  \n",
       "1748               0              0  \n",
       "1264               1              0  \n",
       "629                1              0  \n",
       "1043               0              1  \n",
       "298                0              0  \n",
       "582                0              0  \n",
       "1480               0              0  \n",
       "383                0              0  \n",
       "555                0              0  "
      ]
     },
     "execution_count": 134,
     "metadata": {},
     "output_type": "execute_result"
    }
   ],
   "source": [
    "Y_test[:15]"
   ]
  },
  {
   "cell_type": "code",
   "execution_count": 20,
   "id": "69f29e96",
   "metadata": {},
   "outputs": [],
   "source": [
    "#This will predict the classes for each row. The class with the highest probability is selected\n",
    "def PredictClasses(model, X):\n",
    "    probs = model.predict_proba(X)\n",
    "    probs = np.array(probs) #List to (N, num_classes, 2)\n",
    "    predictedClasses = np.argmax(probs[:,:,1].T, axis=1) #First index classifies it as 0, second as 1, Then get the max index for each row\n",
    "    \n",
    "    return predictedClasses\n",
    "    \n",
    "    \n",
    "    "
   ]
  },
  {
   "cell_type": "code",
   "execution_count": 21,
   "id": "23953fd9",
   "metadata": {},
   "outputs": [
    {
     "ename": "NameError",
     "evalue": "name 'pipeline' is not defined",
     "output_type": "error",
     "traceback": [
      "\u001b[1;31m---------------------------------------------------------------------------\u001b[0m",
      "\u001b[1;31mNameError\u001b[0m                                 Traceback (most recent call last)",
      "\u001b[1;32m<ipython-input-21-5da0f5ee87f3>\u001b[0m in \u001b[0;36m<module>\u001b[1;34m\u001b[0m\n\u001b[1;32m----> 1\u001b[1;33m \u001b[0mresults\u001b[0m \u001b[1;33m=\u001b[0m \u001b[0mPredictClasses\u001b[0m\u001b[1;33m(\u001b[0m\u001b[0mpipeline\u001b[0m\u001b[1;33m,\u001b[0m \u001b[0mX_test\u001b[0m\u001b[1;33m[\u001b[0m\u001b[1;33m:\u001b[0m\u001b[1;36m15\u001b[0m\u001b[1;33m]\u001b[0m\u001b[1;33m)\u001b[0m\u001b[1;33m\u001b[0m\u001b[1;33m\u001b[0m\u001b[0m\n\u001b[0m\u001b[0;32m      2\u001b[0m \u001b[0mresults\u001b[0m\u001b[1;33m\u001b[0m\u001b[1;33m\u001b[0m\u001b[0m\n",
      "\u001b[1;31mNameError\u001b[0m: name 'pipeline' is not defined"
     ]
    }
   ],
   "source": [
    "results = PredictClasses(pipeline, X_test[:15])\n",
    "results"
   ]
  },
  {
   "cell_type": "code",
   "execution_count": 139,
   "id": "cde4fcd1",
   "metadata": {},
   "outputs": [
    {
     "data": {
      "text/plain": [
       "array([2, 0, 1, 4, 3, 2, 0, 3, 3, 4, 1, 1, 1, 1, 1], dtype=int64)"
      ]
     },
     "execution_count": 139,
     "metadata": {},
     "output_type": "execute_result"
    }
   ],
   "source": [
    "results"
   ]
  },
  {
   "cell_type": "code",
   "execution_count": 24,
   "id": "034c4869",
   "metadata": {},
   "outputs": [],
   "source": [
    "#Evaluate the model and print the accuracy\n",
    "from sklearn.metrics import precision_score, f1_score, recall_score, classification_report\n",
    "def EvaluateModel(model, X_test, Y_test):\n",
    "    Y_pred = model.predict(X_test)\n",
    "    \n",
    "    total_hits = np.sum(np.sum(Y_pred == Y_test))\n",
    "    total_misses = np.sum(np.sum(Y_pred != Y_test))\n",
    "    total_accuracy = total_hits/(total_hits + total_misses)\n",
    "       \n",
    "    target_names = [name for name in Y.columns]\n",
    "\n",
    "    precisions = []\n",
    "    recalls = []\n",
    "    f1scores = []\n",
    "    for (name, col) in zip(target_names, range(len(target_names))):\n",
    "        y_test = Y_test[name].values\n",
    "        y_pred = Y_pred[:, col]\n",
    "        \n",
    "        if(np.max(y_test) <= 1):\n",
    "            #Only one category\n",
    "            precisions.append(precision_score(y_test, y_pred))\n",
    "            recalls.append(recall_score(y_test, y_pred))\n",
    "            f1scores.append(f1_score(y_test, y_pred))\n",
    "        print(f'Category: {name}')\n",
    "        print(classification_report(y_test, y_pred))\n",
    "        print('-'*42)\n",
    "     \n",
    "    \n",
    "    print(f'Total Accuracy: {total_accuracy}')\n",
    "    print(f'Average Precission: {np.average(precisions)}')\n",
    "    print(f'Average Recall: {np.average(recalls)}')\n",
    "    print(f'Average F1 Score: {np.average(f1scores)}')"
   ]
  },
  {
   "cell_type": "code",
   "execution_count": 25,
   "id": "eb30e3fc",
   "metadata": {},
   "outputs": [
    {
     "name": "stdout",
     "output_type": "stream",
     "text": [
      "Transform Called\n",
      "Running batch 1/10\n",
      "output shape: (10, 768)\n",
      "Running batch 2/10\n",
      "output shape: (10, 768)\n",
      "Running batch 3/10\n",
      "output shape: (10, 768)\n",
      "Running batch 4/10\n",
      "output shape: (10, 768)\n",
      "Running batch 5/10\n",
      "output shape: (10, 768)\n",
      "Running batch 6/10\n",
      "output shape: (10, 768)\n",
      "Running batch 7/10\n",
      "output shape: (10, 768)\n",
      "Running batch 8/10\n",
      "output shape: (10, 768)\n",
      "Running batch 9/10\n",
      "output shape: (10, 768)\n",
      "Running batch 10/10\n",
      "output shape: (10, 768)\n",
      "transformed.shape: (100, 768)\n",
      "Category: category_business\n",
      "              precision    recall  f1-score   support\n",
      "\n",
      "           0       0.93      0.97      0.95        79\n",
      "           1       0.88      0.71      0.79        21\n",
      "\n",
      "    accuracy                           0.92       100\n",
      "   macro avg       0.91      0.84      0.87       100\n",
      "weighted avg       0.92      0.92      0.92       100\n",
      "\n",
      "------------------------------------------\n",
      "Category: category_entertainment\n",
      "              precision    recall  f1-score   support\n",
      "\n",
      "           0       0.88      1.00      0.94        74\n",
      "           1       1.00      0.62      0.76        26\n",
      "\n",
      "    accuracy                           0.90       100\n",
      "   macro avg       0.94      0.81      0.85       100\n",
      "weighted avg       0.91      0.90      0.89       100\n",
      "\n",
      "------------------------------------------\n",
      "Category: category_politics\n",
      "              precision    recall  f1-score   support\n",
      "\n",
      "           0       0.88      1.00      0.94        80\n",
      "           1       1.00      0.45      0.62        20\n",
      "\n",
      "    accuracy                           0.89       100\n",
      "   macro avg       0.94      0.72      0.78       100\n",
      "weighted avg       0.90      0.89      0.87       100\n",
      "\n",
      "------------------------------------------\n",
      "Category: category_sport\n",
      "              precision    recall  f1-score   support\n",
      "\n",
      "           0       0.93      1.00      0.97        83\n",
      "           1       1.00      0.65      0.79        17\n",
      "\n",
      "    accuracy                           0.94       100\n",
      "   macro avg       0.97      0.82      0.88       100\n",
      "weighted avg       0.94      0.94      0.93       100\n",
      "\n",
      "------------------------------------------\n",
      "Category: category_tech\n",
      "              precision    recall  f1-score   support\n",
      "\n",
      "           0       0.90      1.00      0.95        84\n",
      "           1       1.00      0.44      0.61        16\n",
      "\n",
      "    accuracy                           0.91       100\n",
      "   macro avg       0.95      0.72      0.78       100\n",
      "weighted avg       0.92      0.91      0.89       100\n",
      "\n",
      "------------------------------------------\n",
      "Total Accuracy: 0.912\n",
      "Average Precission: 0.9764705882352942\n",
      "Average Recall: 0.5728458306399483\n",
      "Average F1 Score: 0.7132956078351802\n"
     ]
    }
   ],
   "source": [
    "EvaluateModel(pipeline, X_test[:100], Y_test[:100])"
   ]
  },
  {
   "cell_type": "code",
   "execution_count": 130,
   "id": "periodic-password",
   "metadata": {},
   "outputs": [
    {
     "data": {
      "text/plain": [
       "array([[0, 0, 0, 0, 1],\n",
       "       [1, 0, 0, 0, 0],\n",
       "       [0, 0, 0, 1, 0],\n",
       "       [0, 0, 0, 1, 0],\n",
       "       [0, 1, 0, 0, 0],\n",
       "       [0, 0, 1, 0, 0],\n",
       "       [0, 0, 1, 0, 0],\n",
       "       [0, 0, 0, 1, 0],\n",
       "       [0, 0, 0, 1, 0],\n",
       "       [0, 1, 0, 0, 0]], dtype=uint8)"
      ]
     },
     "execution_count": 130,
     "metadata": {},
     "output_type": "execute_result"
    }
   ],
   "source": [
    "y.iloc[0:10].values"
   ]
  },
  {
   "cell_type": "code",
   "execution_count": 140,
   "id": "varying-private",
   "metadata": {},
   "outputs": [],
   "source": [
    "#Save, Load model"
   ]
  },
  {
   "cell_type": "code",
   "execution_count": 2,
   "id": "1521d2b9",
   "metadata": {},
   "outputs": [],
   "source": [
    "from joblib import dump, load"
   ]
  },
  {
   "cell_type": "code",
   "execution_count": 15,
   "id": "d8a3b316",
   "metadata": {},
   "outputs": [],
   "source": [
    "modelName = 'BertModel.joblib'"
   ]
  },
  {
   "cell_type": "code",
   "execution_count": 142,
   "id": "f2ee52e9",
   "metadata": {},
   "outputs": [
    {
     "data": {
      "text/plain": [
       "['BertModel.joblib']"
      ]
     },
     "execution_count": 142,
     "metadata": {},
     "output_type": "execute_result"
    }
   ],
   "source": [
    "\n",
    "dump(pipeline, modelName ) "
   ]
  },
  {
   "cell_type": "code",
   "execution_count": 18,
   "id": "4fa048d6",
   "metadata": {},
   "outputs": [],
   "source": [
    "loadedModel = load(modelName) "
   ]
  },
  {
   "cell_type": "code",
   "execution_count": 19,
   "id": "fb725e15",
   "metadata": {},
   "outputs": [
    {
     "name": "stdout",
     "output_type": "stream",
     "text": [
      "Transform Called\n",
      "Running batch 1/2\n",
      "output shape: (10, 768)\n",
      "Running batch 2/2\n",
      "output shape: (10, 768)\n",
      "transformed.shape: (20, 768)\n"
     ]
    },
    {
     "data": {
      "text/plain": [
       "array([[0, 0, 0, 0, 0],\n",
       "       [0, 0, 0, 0, 1],\n",
       "       [0, 0, 0, 0, 0],\n",
       "       [0, 0, 0, 0, 0],\n",
       "       [0, 0, 0, 0, 1],\n",
       "       [1, 0, 0, 0, 0],\n",
       "       [0, 0, 0, 0, 0],\n",
       "       [0, 0, 0, 0, 0],\n",
       "       [0, 0, 0, 1, 0],\n",
       "       [0, 0, 0, 0, 0],\n",
       "       [0, 0, 0, 0, 0],\n",
       "       [0, 0, 1, 0, 0],\n",
       "       [0, 0, 1, 0, 0],\n",
       "       [0, 0, 0, 0, 0],\n",
       "       [0, 0, 0, 0, 1],\n",
       "       [0, 0, 0, 1, 0],\n",
       "       [0, 0, 0, 1, 0],\n",
       "       [1, 0, 0, 0, 0],\n",
       "       [0, 0, 0, 0, 0],\n",
       "       [0, 0, 1, 0, 0]], dtype=uint8)"
      ]
     },
     "execution_count": 19,
     "metadata": {},
     "output_type": "execute_result"
    }
   ],
   "source": [
    "loadedModel.predict(X_test[100:120])"
   ]
  },
  {
   "cell_type": "code",
   "execution_count": null,
   "id": "39e31548",
   "metadata": {},
   "outputs": [],
   "source": []
  }
 ],
 "metadata": {
  "kernelspec": {
   "display_name": "Python 3",
   "language": "python",
   "name": "python3"
  },
  "language_info": {
   "codemirror_mode": {
    "name": "ipython",
    "version": 3
   },
   "file_extension": ".py",
   "mimetype": "text/x-python",
   "name": "python",
   "nbconvert_exporter": "python",
   "pygments_lexer": "ipython3",
   "version": "3.8.11"
  }
 },
 "nbformat": 4,
 "nbformat_minor": 5
}
