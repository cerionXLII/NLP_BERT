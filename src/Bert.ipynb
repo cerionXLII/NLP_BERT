{
 "cells": [
  {
   "cell_type": "code",
   "execution_count": 2,
   "id": "honest-month",
   "metadata": {},
   "outputs": [],
   "source": [
    "import pandas as pd\n",
    "import numpy as np\n",
    "from transformers import AutoModel, AutoTokenizer"
   ]
  },
  {
   "cell_type": "code",
   "execution_count": 3,
   "id": "fundamental-settle",
   "metadata": {},
   "outputs": [
    {
     "name": "stderr",
     "output_type": "stream",
     "text": [
      "Some weights of the model checkpoint at KB/bert-base-swedish-cased were not used when initializing BertModel: ['cls.predictions.transform.dense.weight', 'cls.predictions.decoder.weight', 'cls.predictions.transform.dense.bias', 'cls.predictions.transform.LayerNorm.bias', 'cls.predictions.bias', 'cls.predictions.transform.LayerNorm.weight', 'cls.predictions.decoder.bias']\n",
      "- This IS expected if you are initializing BertModel from the checkpoint of a model trained on another task or with another architecture (e.g. initializing a BertForSequenceClassification model from a BertForPreTraining model).\n",
      "- This IS NOT expected if you are initializing BertModel from the checkpoint of a model that you expect to be exactly identical (initializing a BertForSequenceClassification model from a BertForSequenceClassification model).\n"
     ]
    }
   ],
   "source": [
    "tok = AutoTokenizer.from_pretrained('KB/bert-base-swedish-cased', use_fast=False)\n",
    "model = AutoModel.from_pretrained('KB/bert-base-swedish-cased')"
   ]
  },
  {
   "cell_type": "code",
   "execution_count": 4,
   "id": "prospective-eclipse",
   "metadata": {},
   "outputs": [],
   "source": [
    "text = 'Idag är det en vacker dag och åren går'\n",
    "inputs = tok(text, return_tensors='pt')"
   ]
  },
  {
   "cell_type": "code",
   "execution_count": 9,
   "id": "attached-violation",
   "metadata": {},
   "outputs": [
    {
     "data": {
      "text/plain": [
       "{'input_ids': tensor([[    2, 11024,    54,    82,    59,  5197,   342,    36,  2033,   523,\n",
       "             3]]), 'token_type_ids': tensor([[0, 0, 0, 0, 0, 0, 0, 0, 0, 0, 0]]), 'attention_mask': tensor([[1, 1, 1, 1, 1, 1, 1, 1, 1, 1, 1]])}"
      ]
     },
     "execution_count": 9,
     "metadata": {},
     "output_type": "execute_result"
    }
   ],
   "source": [
    "inputs"
   ]
  },
  {
   "cell_type": "code",
   "execution_count": 6,
   "id": "accepted-break",
   "metadata": {},
   "outputs": [
    {
     "data": {
      "text/plain": [
       "array([[    2, 11024,    54,    82,    59,  5197,   342,    36,  2033,\n",
       "          523,     3]], dtype=int64)"
      ]
     },
     "execution_count": 6,
     "metadata": {},
     "output_type": "execute_result"
    }
   ],
   "source": [
    "np.array(inputs.input_ids)"
   ]
  },
  {
   "cell_type": "code",
   "execution_count": 8,
   "id": "cathedral-brunei",
   "metadata": {},
   "outputs": [
    {
     "data": {
      "text/plain": [
       "['[CLS]',\n",
       " 'Idag',\n",
       " 'är',\n",
       " 'det',\n",
       " 'en',\n",
       " 'vacker',\n",
       " 'dag',\n",
       " 'och',\n",
       " 'åren',\n",
       " 'går',\n",
       " '[SEP]']"
      ]
     },
     "execution_count": 8,
     "metadata": {},
     "output_type": "execute_result"
    }
   ],
   "source": [
    "tok.convert_ids_to_tokens(np.array(inputs.input_ids.reshape(-1,)))"
   ]
  },
  {
   "cell_type": "code",
   "execution_count": 45,
   "id": "gorgeous-inspector",
   "metadata": {},
   "outputs": [
    {
     "name": "stderr",
     "output_type": "stream",
     "text": [
      "C:\\ProgramData\\Anaconda3\\envs\\tf38\\lib\\site-packages\\transformers\\generation_utils.py:1227: UserWarning: Neither `max_length` nor `max_new_tokens` has been set, `max_length` will default to 20 (`self.config.max_length`). Controlling `max_length` via the config is deprecated and `max_length` will be removed from the config in v5 of Transformers -- we recommend using `max_new_tokens` to control the maximum length of the generation.\n",
      "  warnings.warn(\n"
     ]
    },
    {
     "ename": "AttributeError",
     "evalue": "'BaseModelOutputWithPoolingAndCrossAttentions' object has no attribute 'logits'",
     "output_type": "error",
     "traceback": [
      "\u001b[1;31m---------------------------------------------------------------------------\u001b[0m",
      "\u001b[1;31mAttributeError\u001b[0m                            Traceback (most recent call last)",
      "\u001b[1;32m<ipython-input-45-09b960502c0a>\u001b[0m in \u001b[0;36m<module>\u001b[1;34m\u001b[0m\n\u001b[0;32m      1\u001b[0m \u001b[1;31m#generation_output = model.generate(**inputs, return_dict_in_generate=True, output_scores=True)\u001b[0m\u001b[1;33m\u001b[0m\u001b[1;33m\u001b[0m\u001b[1;33m\u001b[0m\u001b[0m\n\u001b[0;32m      2\u001b[0m \u001b[1;31m#generation_output = model.generate(**inputs, return_dict_in_generate=True, output_scores=True)\u001b[0m\u001b[1;33m\u001b[0m\u001b[1;33m\u001b[0m\u001b[1;33m\u001b[0m\u001b[0m\n\u001b[1;32m----> 3\u001b[1;33m \u001b[0mgeneration_output\u001b[0m \u001b[1;33m=\u001b[0m \u001b[0mmodel\u001b[0m\u001b[1;33m.\u001b[0m\u001b[0mgenerate\u001b[0m\u001b[1;33m(\u001b[0m\u001b[1;33m**\u001b[0m\u001b[0minputs\u001b[0m\u001b[1;33m)\u001b[0m\u001b[1;33m\u001b[0m\u001b[1;33m\u001b[0m\u001b[0m\n\u001b[0m",
      "\u001b[1;32mC:\\ProgramData\\Anaconda3\\envs\\tf38\\lib\\site-packages\\torch\\autograd\\grad_mode.py\u001b[0m in \u001b[0;36mdecorate_context\u001b[1;34m(*args, **kwargs)\u001b[0m\n\u001b[0;32m     25\u001b[0m         \u001b[1;32mdef\u001b[0m \u001b[0mdecorate_context\u001b[0m\u001b[1;33m(\u001b[0m\u001b[1;33m*\u001b[0m\u001b[0margs\u001b[0m\u001b[1;33m,\u001b[0m \u001b[1;33m**\u001b[0m\u001b[0mkwargs\u001b[0m\u001b[1;33m)\u001b[0m\u001b[1;33m:\u001b[0m\u001b[1;33m\u001b[0m\u001b[1;33m\u001b[0m\u001b[0m\n\u001b[0;32m     26\u001b[0m             \u001b[1;32mwith\u001b[0m \u001b[0mself\u001b[0m\u001b[1;33m.\u001b[0m\u001b[0mclone\u001b[0m\u001b[1;33m(\u001b[0m\u001b[1;33m)\u001b[0m\u001b[1;33m:\u001b[0m\u001b[1;33m\u001b[0m\u001b[1;33m\u001b[0m\u001b[0m\n\u001b[1;32m---> 27\u001b[1;33m                 \u001b[1;32mreturn\u001b[0m \u001b[0mfunc\u001b[0m\u001b[1;33m(\u001b[0m\u001b[1;33m*\u001b[0m\u001b[0margs\u001b[0m\u001b[1;33m,\u001b[0m \u001b[1;33m**\u001b[0m\u001b[0mkwargs\u001b[0m\u001b[1;33m)\u001b[0m\u001b[1;33m\u001b[0m\u001b[1;33m\u001b[0m\u001b[0m\n\u001b[0m\u001b[0;32m     28\u001b[0m         \u001b[1;32mreturn\u001b[0m \u001b[0mcast\u001b[0m\u001b[1;33m(\u001b[0m\u001b[0mF\u001b[0m\u001b[1;33m,\u001b[0m \u001b[0mdecorate_context\u001b[0m\u001b[1;33m)\u001b[0m\u001b[1;33m\u001b[0m\u001b[1;33m\u001b[0m\u001b[0m\n\u001b[0;32m     29\u001b[0m \u001b[1;33m\u001b[0m\u001b[0m\n",
      "\u001b[1;32mC:\\ProgramData\\Anaconda3\\envs\\tf38\\lib\\site-packages\\transformers\\generation_utils.py\u001b[0m in \u001b[0;36mgenerate\u001b[1;34m(self, inputs, max_length, min_length, do_sample, early_stopping, num_beams, temperature, top_k, top_p, typical_p, repetition_penalty, bad_words_ids, force_words_ids, bos_token_id, pad_token_id, eos_token_id, length_penalty, no_repeat_ngram_size, encoder_no_repeat_ngram_size, num_return_sequences, max_time, max_new_tokens, decoder_start_token_id, use_cache, num_beam_groups, diversity_penalty, prefix_allowed_tokens_fn, logits_processor, renormalize_logits, stopping_criteria, constraints, output_attentions, output_hidden_states, output_scores, return_dict_in_generate, forced_bos_token_id, forced_eos_token_id, remove_invalid_values, synced_gpus, exponential_decay_length_penalty, **model_kwargs)\u001b[0m\n\u001b[0;32m   1317\u001b[0m \u001b[1;33m\u001b[0m\u001b[0m\n\u001b[0;32m   1318\u001b[0m             \u001b[1;31m# 10. run greedy search\u001b[0m\u001b[1;33m\u001b[0m\u001b[1;33m\u001b[0m\u001b[1;33m\u001b[0m\u001b[0m\n\u001b[1;32m-> 1319\u001b[1;33m             return self.greedy_search(\n\u001b[0m\u001b[0;32m   1320\u001b[0m                 \u001b[0minput_ids\u001b[0m\u001b[1;33m,\u001b[0m\u001b[1;33m\u001b[0m\u001b[1;33m\u001b[0m\u001b[0m\n\u001b[0;32m   1321\u001b[0m                 \u001b[0mlogits_processor\u001b[0m\u001b[1;33m=\u001b[0m\u001b[0mlogits_processor\u001b[0m\u001b[1;33m,\u001b[0m\u001b[1;33m\u001b[0m\u001b[1;33m\u001b[0m\u001b[0m\n",
      "\u001b[1;32mC:\\ProgramData\\Anaconda3\\envs\\tf38\\lib\\site-packages\\transformers\\generation_utils.py\u001b[0m in \u001b[0;36mgreedy_search\u001b[1;34m(self, input_ids, logits_processor, stopping_criteria, max_length, pad_token_id, eos_token_id, output_attentions, output_hidden_states, output_scores, return_dict_in_generate, synced_gpus, **model_kwargs)\u001b[0m\n\u001b[0;32m   1722\u001b[0m                 \u001b[1;32mcontinue\u001b[0m  \u001b[1;31m# don't waste resources running the code we don't need\u001b[0m\u001b[1;33m\u001b[0m\u001b[1;33m\u001b[0m\u001b[0m\n\u001b[0;32m   1723\u001b[0m \u001b[1;33m\u001b[0m\u001b[0m\n\u001b[1;32m-> 1724\u001b[1;33m             \u001b[0mnext_token_logits\u001b[0m \u001b[1;33m=\u001b[0m \u001b[0moutputs\u001b[0m\u001b[1;33m.\u001b[0m\u001b[0mlogits\u001b[0m\u001b[1;33m[\u001b[0m\u001b[1;33m:\u001b[0m\u001b[1;33m,\u001b[0m \u001b[1;33m-\u001b[0m\u001b[1;36m1\u001b[0m\u001b[1;33m,\u001b[0m \u001b[1;33m:\u001b[0m\u001b[1;33m]\u001b[0m\u001b[1;33m\u001b[0m\u001b[1;33m\u001b[0m\u001b[0m\n\u001b[0m\u001b[0;32m   1725\u001b[0m \u001b[1;33m\u001b[0m\u001b[0m\n\u001b[0;32m   1726\u001b[0m             \u001b[1;31m# pre-process distribution\u001b[0m\u001b[1;33m\u001b[0m\u001b[1;33m\u001b[0m\u001b[1;33m\u001b[0m\u001b[0m\n",
      "\u001b[1;31mAttributeError\u001b[0m: 'BaseModelOutputWithPoolingAndCrossAttentions' object has no attribute 'logits'"
     ]
    }
   ],
   "source": [
    "#generation_output = model.generate(**inputs, return_dict_in_generate=True, output_scores=True)\n",
    "#generation_output = model.generate(**inputs, return_dict_in_generate=True, output_scores=True)\n",
    "generation_output = model.generate(**inputs)"
   ]
  },
  {
   "cell_type": "code",
   "execution_count": 17,
   "id": "accessible-scanner",
   "metadata": {},
   "outputs": [
    {
     "data": {
      "application/json": {
       "ascii": false,
       "bar_format": null,
       "colour": null,
       "elapsed": 0.012999534606933594,
       "initial": 0,
       "n": 0,
       "ncols": null,
       "nrows": 29,
       "postfix": null,
       "prefix": "Downloading",
       "rate": null,
       "total": 1042301,
       "unit": "B",
       "unit_divisor": 1000,
       "unit_scale": true
      },
      "application/vnd.jupyter.widget-view+json": {
       "model_id": "546438c39c3a4b95891bded873b0a3bb",
       "version_major": 2,
       "version_minor": 0
      },
      "text/plain": [
       "Downloading:   0%|          | 0.00/1.04M [00:00<?, ?B/s]"
      ]
     },
     "metadata": {},
     "output_type": "display_data"
    },
    {
     "data": {
      "application/json": {
       "ascii": false,
       "bar_format": null,
       "colour": null,
       "elapsed": 0.012000322341918945,
       "initial": 0,
       "n": 0,
       "ncols": null,
       "nrows": 29,
       "postfix": null,
       "prefix": "Downloading",
       "rate": null,
       "total": 456318,
       "unit": "B",
       "unit_divisor": 1000,
       "unit_scale": true
      },
      "application/vnd.jupyter.widget-view+json": {
       "model_id": "9d87d06de820432e9536cd4dad8b2c21",
       "version_major": 2,
       "version_minor": 0
      },
      "text/plain": [
       "Downloading:   0%|          | 0.00/456k [00:00<?, ?B/s]"
      ]
     },
     "metadata": {},
     "output_type": "display_data"
    },
    {
     "data": {
      "application/json": {
       "ascii": false,
       "bar_format": null,
       "colour": null,
       "elapsed": 0.012000322341918945,
       "initial": 0,
       "n": 0,
       "ncols": null,
       "nrows": 29,
       "postfix": null,
       "prefix": "Downloading",
       "rate": null,
       "total": 665,
       "unit": "B",
       "unit_divisor": 1000,
       "unit_scale": true
      },
      "application/vnd.jupyter.widget-view+json": {
       "model_id": "7bc127f5fac843f98464bf403ca3c7e7",
       "version_major": 2,
       "version_minor": 0
      },
      "text/plain": [
       "Downloading:   0%|          | 0.00/665 [00:00<?, ?B/s]"
      ]
     },
     "metadata": {},
     "output_type": "display_data"
    },
    {
     "data": {
      "application/json": {
       "ascii": false,
       "bar_format": null,
       "colour": null,
       "elapsed": 0.013000726699829102,
       "initial": 0,
       "n": 0,
       "ncols": null,
       "nrows": 29,
       "postfix": null,
       "prefix": "Downloading",
       "rate": null,
       "total": 548118077,
       "unit": "B",
       "unit_divisor": 1000,
       "unit_scale": true
      },
      "application/vnd.jupyter.widget-view+json": {
       "model_id": "99649d4ffdcc461ab10233228bc49811",
       "version_major": 2,
       "version_minor": 0
      },
      "text/plain": [
       "Downloading:   0%|          | 0.00/548M [00:00<?, ?B/s]"
      ]
     },
     "metadata": {},
     "output_type": "display_data"
    },
    {
     "name": "stderr",
     "output_type": "stream",
     "text": [
      "Setting `pad_token_id` to `eos_token_id`:50256 for open-end generation.\n"
     ]
    }
   ],
   "source": [
    "from transformers import GPT2Tokenizer, GPT2LMHeadModel\n",
    "\n",
    "tokenizer = GPT2Tokenizer.from_pretrained(\"gpt2\")\n",
    "model = GPT2LMHeadModel.from_pretrained(\"gpt2\")\n",
    "\n",
    "inputs = tokenizer(\"Hello, my dog is cute and \", return_tensors=\"pt\")\n",
    "generation_output = model.generate(**inputs, return_dict_in_generate=True, output_scores=True)"
   ]
  },
  {
   "cell_type": "code",
   "execution_count": 21,
   "id": "computational-greenhouse",
   "metadata": {},
   "outputs": [
    {
     "data": {
      "text/plain": [
       "tensor([[15496,    11,   616,  3290,   318, 13779,   290,   220, 17479,    13,\n",
       "           314,  1101,   407,  1654,   611,   673,   338,   257,   922,  3290]])"
      ]
     },
     "execution_count": 21,
     "metadata": {},
     "output_type": "execute_result"
    }
   ],
   "source": [
    "generation_output['sequences']"
   ]
  },
  {
   "cell_type": "code",
   "execution_count": 31,
   "id": "owned-azerbaijan",
   "metadata": {},
   "outputs": [
    {
     "data": {
      "text/plain": [
       "['Hello',\n",
       " ',',\n",
       " 'Ġmy',\n",
       " 'Ġdog',\n",
       " 'Ġis',\n",
       " 'Ġcute',\n",
       " 'Ġand',\n",
       " 'Ġ',\n",
       " 'icky',\n",
       " '.',\n",
       " 'ĠI',\n",
       " \"'m\",\n",
       " 'Ġnot',\n",
       " 'Ġsure',\n",
       " 'Ġif',\n",
       " 'Ġshe',\n",
       " \"'s\",\n",
       " 'Ġa',\n",
       " 'Ġgood',\n",
       " 'Ġdog']"
      ]
     },
     "execution_count": 31,
     "metadata": {},
     "output_type": "execute_result"
    }
   ],
   "source": [
    "tokenizer.convert_ids_to_tokens(np.array(generation_output['sequences']).reshape(-1,))"
   ]
  },
  {
   "cell_type": "code",
   "execution_count": 30,
   "id": "frozen-income",
   "metadata": {},
   "outputs": [
    {
     "data": {
      "text/plain": [
       "(20,)"
      ]
     },
     "execution_count": 30,
     "metadata": {},
     "output_type": "execute_result"
    }
   ],
   "source": [
    "np.array(generation_output['sequences']).reshape(-1,).shape"
   ]
  },
  {
   "cell_type": "code",
   "execution_count": null,
   "id": "radical-property",
   "metadata": {},
   "outputs": [],
   "source": [
    "model.sample()"
   ]
  },
  {
   "cell_type": "code",
   "execution_count": 73,
   "id": "fossil-karen",
   "metadata": {},
   "outputs": [
    {
     "name": "stderr",
     "output_type": "stream",
     "text": [
      "Some weights of the model checkpoint at KB/bert-base-swedish-cased were not used when initializing BertModel: ['cls.predictions.transform.dense.weight', 'cls.predictions.decoder.weight', 'cls.predictions.transform.dense.bias', 'cls.predictions.transform.LayerNorm.bias', 'cls.predictions.bias', 'cls.predictions.transform.LayerNorm.weight', 'cls.predictions.decoder.bias']\n",
      "- This IS expected if you are initializing BertModel from the checkpoint of a model trained on another task or with another architecture (e.g. initializing a BertForSequenceClassification model from a BertForPreTraining model).\n",
      "- This IS NOT expected if you are initializing BertModel from the checkpoint of a model that you expect to be exactly identical (initializing a BertForSequenceClassification model from a BertForSequenceClassification model).\n"
     ]
    }
   ],
   "source": [
    "# Define the model repo\n",
    "model_name = \"KB/bert-base-swedish-cased\" \n",
    "\n",
    "\n",
    "# Download pytorch model\n",
    "model = AutoModel.from_pretrained(model_name)\n",
    "tokenizer = AutoTokenizer.from_pretrained(model_name)\n",
    "\n",
    "\n",
    "# Transform input tokens \n",
    "#inputs = tokenizer(\"Hello world!\", return_tensors=\"pt\")\n",
    "#inputs = tokenizer(\"Hejsan världen, hur mår ni?\", return_tensors=\"pt\")\n",
    "inputs = tokenizer(XX[0][-513], return_tensors=\"pt\")\n",
    "\n",
    "\n",
    "# Model apply\n",
    "outputs = model(**inputs)"
   ]
  },
  {
   "cell_type": "code",
   "execution_count": 71,
   "id": "secret-cruise",
   "metadata": {},
   "outputs": [
    {
     "data": {
      "text/plain": [
       "BaseModelOutputWithPoolingAndCrossAttentions(last_hidden_state=tensor([[[-0.2943, -0.2012, -0.6913,  ..., -0.5045,  0.4321,  0.6769],\n",
       "         [ 0.4604, -0.4728, -0.6486,  ..., -0.1868,  0.2096,  0.3174],\n",
       "         [ 0.3726, -0.2437,  0.0253,  ...,  0.2651, -0.2276, -0.0822],\n",
       "         [ 0.1439,  0.0145,  0.1364,  ..., -0.0069, -0.2518,  0.0516],\n",
       "         [ 0.0547, -0.0091, -0.5462,  ..., -0.9887,  0.4403, -0.0221],\n",
       "         [-0.1189, -0.1125,  0.0616,  ..., -1.4116,  1.0616, -0.2104]]],\n",
       "       grad_fn=<NativeLayerNormBackward0>), pooler_output=tensor([[ 0.9983,  0.1959,  0.2413, -0.1433,  0.2580, -0.3140, -0.0538, -0.9793,\n",
       "          0.0919, -0.9953, -0.3450,  0.2627,  0.0420,  0.3956,  0.2524,  0.2016,\n",
       "         -0.0468,  0.1342, -0.0016,  0.9999,  0.3578, -0.9959,  0.0376,  0.2310,\n",
       "          0.2986, -0.9915,  0.0830, -0.4094,  0.1406, -0.0293,  0.1867, -0.8586,\n",
       "         -0.9466, -0.2932, -0.1551,  0.0437,  0.2896,  0.1175, -0.1109, -0.3225,\n",
       "          0.1050,  0.9597, -0.0784, -0.9516,  0.9990,  0.1582,  0.9955,  0.5500,\n",
       "         -0.0902, -0.2811,  0.0966, -0.9758,  0.0568, -0.9926,  0.2526, -0.3118,\n",
       "         -0.6650,  0.1548,  0.1162,  0.9415,  0.0616, -0.4601, -0.9776,  0.9176,\n",
       "          0.7926, -0.1742,  0.2426,  0.1921, -0.3502,  0.0979, -0.9387,  0.1822,\n",
       "          0.9909,  0.9011,  0.2639,  0.9600,  0.8678, -0.5546,  0.3549,  0.1382,\n",
       "         -0.1255, -0.3130,  0.3304, -0.1821, -0.2462, -0.0513,  0.0709, -0.0978,\n",
       "         -0.2283,  0.2903, -0.0099, -0.3731, -0.0635,  0.6793,  0.1920,  0.1048,\n",
       "         -0.1716,  1.0000,  0.1833,  0.1220,  0.9924, -0.8591, -0.9992,  0.0815,\n",
       "          0.7825, -0.8416, -0.1466, -0.1695, -0.0343, -0.9936,  0.3824, -0.9791,\n",
       "         -0.9060, -0.2938, -0.2215,  0.0944,  0.9885, -0.0830,  0.1170, -0.3551,\n",
       "          0.2282, -0.0804, -0.0317, -0.1457, -0.9772,  0.2697,  0.1270, -0.2796,\n",
       "          0.1156,  0.8752,  0.2124, -0.6541, -0.2416,  0.8872,  0.0461, -0.9988,\n",
       "         -0.2649, -0.1687,  0.0209,  0.1430,  0.2114,  0.0913, -0.9999, -0.9663,\n",
       "         -0.0390,  0.7038, -0.0551, -0.1178,  0.2098, -0.9976, -0.7067, -0.2790,\n",
       "         -0.3832, -0.2959,  0.7953,  0.1291,  0.0295,  0.9687,  0.1021, -0.1340,\n",
       "          0.0231, -0.0870,  0.9613,  0.9122, -0.9367,  0.0721, -0.3582, -0.3076,\n",
       "          0.9735, -0.3096,  0.0806,  0.0323, -0.1752, -0.0993, -0.4808,  0.0614,\n",
       "          0.4271,  0.1604, -0.3369, -0.8079,  0.9892,  0.5292,  0.4366,  0.1755,\n",
       "          0.0511, -0.2547, -0.2664, -0.2201,  0.9928, -0.1977, -0.9754, -0.2078,\n",
       "         -0.9391, -0.9954, -0.7436, -0.3505,  0.6518, -0.1071,  0.1920,  0.3060,\n",
       "         -0.2582, -0.9740, -0.4006,  0.2584,  0.8565, -0.9844, -0.8603,  0.8583,\n",
       "          0.9754, -0.4358, -0.9871, -0.9476,  0.9231,  0.0538,  0.2993,  0.9678,\n",
       "          0.2950,  0.9998, -0.1141, -0.1670,  0.9902,  0.0495,  0.7280, -0.7033,\n",
       "          0.1562,  0.3559,  0.2644, -0.0299,  0.1408,  0.8590, -0.9997,  0.1438,\n",
       "          0.4719,  0.1142,  0.9955, -0.8119,  0.0332, -0.3007, -0.7381,  0.2289,\n",
       "         -0.2572,  0.9790, -0.0730,  0.5600,  0.6003,  0.3003,  0.9544,  0.8955,\n",
       "         -0.0587,  0.0996,  0.7853, -0.9106,  0.0888,  0.9855, -0.5980, -0.4368,\n",
       "          0.4381, -0.9746,  0.0562, -0.7089,  0.0055,  0.3151, -0.6164,  0.0900,\n",
       "         -0.5168,  0.7985, -0.0583, -0.1056,  0.0601, -0.0295,  0.4372,  0.0681,\n",
       "         -0.3330,  0.9879, -0.4887,  0.9992,  0.0392,  0.2559, -0.0118,  0.4650,\n",
       "          1.0000, -0.1834, -0.1421, -0.9026,  0.0907, -0.9998, -0.9612,  0.8117,\n",
       "         -0.9890, -0.9994, -0.9996,  0.9997, -0.0624,  0.1346,  0.0816,  0.0210,\n",
       "         -0.9929, -0.0186, -0.0416,  0.9786,  0.2712,  0.0850,  0.1223,  0.1744,\n",
       "          0.1751,  0.1134,  0.9977, -0.1274, -0.9887, -0.2761,  0.2211,  0.4264,\n",
       "         -0.5821, -0.8536, -0.0173,  0.2569,  0.2551, -0.9995,  0.2046,  0.2580,\n",
       "          0.1151, -0.0455,  0.0811,  0.1552, -0.9860, -0.0382, -0.8584,  0.1225,\n",
       "          0.8295, -0.8593, -0.3429, -0.1059,  0.1740, -0.0508, -1.0000,  0.7150,\n",
       "         -0.9643,  0.5292,  0.0159,  0.2552,  0.3024, -0.9997,  0.8052,  1.0000,\n",
       "         -0.8959,  0.1899, -0.4834, -0.1757, -0.0029,  0.9402, -0.0187,  0.0399,\n",
       "          0.0299, -0.2074, -0.1675, -0.1442,  0.1555, -0.6478,  0.1351,  0.7943,\n",
       "          0.1758, -0.5257, -0.7307,  0.7586, -0.1802, -0.3063, -0.0833, -0.9996,\n",
       "         -0.2753, -0.1324,  0.2550, -0.3890,  0.0311,  0.1235,  0.3498, -0.9738,\n",
       "          0.3969, -0.2723,  0.4286,  0.8358, -0.1584, -0.4617,  0.0563, -0.0760,\n",
       "          0.0720, -0.0408, -0.1211,  0.2375, -0.2239, -0.0678, -0.1230, -0.9551,\n",
       "          0.1958,  0.1872,  0.0767, -0.0321,  0.1717,  0.8616, -0.2941,  0.1361,\n",
       "          0.7384, -0.1793, -0.1986, -0.1423, -0.9646,  0.9724, -0.0293, -0.1592,\n",
       "         -0.4913,  0.1685,  0.0391,  0.3081, -0.0612,  0.4181,  0.9988, -0.2181,\n",
       "          0.4145, -0.9876,  0.5661,  0.1570,  0.6016,  0.9841,  0.0016, -0.1742,\n",
       "         -0.9889,  0.9380, -0.8927, -0.1515,  0.5529,  0.9962,  0.8140,  0.2657,\n",
       "         -0.2421, -0.9965, -0.4383,  0.8182,  0.5256,  0.5811, -0.0123, -0.1696,\n",
       "         -0.0475,  0.0323,  0.2617, -0.4820,  0.9642, -0.9719, -0.1824,  0.0914,\n",
       "         -0.0237,  0.9858, -0.9982,  0.1889,  0.8905, -0.0924,  0.6586,  0.0367,\n",
       "         -0.0966,  0.2881,  0.0901, -0.9984,  0.2077, -0.1971, -0.8407,  0.5023,\n",
       "          0.1255,  0.9431, -0.8981, -0.2729,  0.0293, -0.1733,  0.0387,  1.0000,\n",
       "          0.2023,  0.0618,  0.1253, -0.0016, -0.0423,  1.0000, -0.1401,  0.0492,\n",
       "          0.3061, -0.3385, -0.3239,  0.1417,  0.0548, -0.3759,  0.4083, -0.7324,\n",
       "         -0.8373, -0.0598,  0.0974, -0.0475, -0.0590, -0.0659,  0.3666, -0.2431,\n",
       "          0.4250,  0.9316,  0.3157,  0.7961,  0.3211,  0.2043, -0.2963,  0.0152,\n",
       "          0.8973,  0.0106, -0.1669, -0.2514,  0.1685,  0.1761, -0.2219, -0.6988,\n",
       "          0.0515,  0.1340, -0.1598,  0.9961,  0.2645,  0.0409, -0.1160,  0.2022,\n",
       "         -0.0969,  0.1868,  0.9829, -0.1991, -0.1896, -0.6172,  0.1835, -0.1069,\n",
       "          0.0105,  0.2219,  0.9332,  0.5498, -0.9684, -0.0479,  0.0060, -0.3765,\n",
       "          0.0154,  0.8799,  0.3829, -0.7357,  0.0538,  0.1294,  0.1613,  0.7328,\n",
       "          0.3441,  0.9899,  0.8876,  0.0029,  0.9823,  0.1081,  0.1762, -0.2093,\n",
       "          0.8446, -0.1872,  0.9841,  0.3291,  0.0071, -0.7570, -0.0102,  0.0739,\n",
       "         -0.1761,  0.9444,  0.2884,  0.8896, -0.0442,  0.9888, -0.0043, -0.8566,\n",
       "          0.9999, -0.1883, -0.9901,  0.1946,  0.2659, -0.2371,  0.3794, -0.8795,\n",
       "         -0.7483,  0.3483,  0.1755, -0.9698,  0.0353, -0.2504,  0.0827,  0.7723,\n",
       "          0.0269,  0.0341, -0.3021, -0.1473, -0.0446,  0.7482,  0.2922, -0.9249,\n",
       "          0.3180, -0.0506, -0.1720,  0.9967,  0.9850, -0.9946,  0.0470, -0.2404,\n",
       "         -0.2940,  0.2731, -0.0598,  0.2891, -0.3478,  0.5626,  0.1876,  0.3176,\n",
       "          0.2936, -0.9641,  0.0763,  0.8609, -0.0685, -0.9975,  0.4092, -0.9982,\n",
       "          0.0906,  0.1171,  0.2829, -0.3297, -0.4005, -0.1958,  0.0644,  0.3181,\n",
       "          0.7602, -0.9811,  0.0069,  0.2685,  0.0816, -0.2009, -0.2219, -0.0458,\n",
       "          0.1342, -0.1551, -0.0388,  0.8182,  0.9981, -0.9489, -0.2060, -0.2177,\n",
       "         -0.7291,  0.2218,  0.9984, -0.1818,  0.0312,  0.9562,  0.0541, -0.3449,\n",
       "         -0.9498,  0.1559,  0.2225,  0.2197, -0.9995,  0.1936, -0.1130, -0.0355,\n",
       "         -0.9982,  0.8133,  0.2128,  0.2538, -0.2799, -0.4672, -0.1336,  0.9984,\n",
       "         -0.4163, -0.9842, -0.5133,  0.2125, -0.0723, -0.3781, -0.7144,  0.9997,\n",
       "         -0.6781, -0.9749, -0.0773, -0.2374,  0.9987,  0.2426, -0.0365,  0.1307,\n",
       "         -0.0386,  0.1223, -0.9970,  0.9782,  0.1463, -0.0514,  0.9914,  0.1433,\n",
       "         -0.1611, -0.1115,  0.7222,  0.8852, -0.3040, -0.1597, -0.3024, -0.1185,\n",
       "          0.9980,  0.2966, -0.2908,  0.2126, -0.0597, -0.9973, -0.0552, -0.9252,\n",
       "          0.0376,  0.9851, -0.9666, -0.1519, -0.9977,  0.0998,  0.1802,  0.1251,\n",
       "          0.3672, -0.0404,  0.9916,  0.0964, -0.9379, -0.6217, -0.7267, -0.2403,\n",
       "          0.6489,  0.8308, -0.1404, -0.1200, -0.9882,  0.1772, -0.1198, -0.9312,\n",
       "          0.8972,  0.8582,  0.0422,  0.9170, -0.0782,  0.2272,  0.9988,  0.9563,\n",
       "          0.1331, -0.1068,  0.2610, -0.2501,  0.9940,  0.1666, -0.0539, -0.9859,\n",
       "          0.4114, -0.8901, -0.0087,  0.2499, -0.1535,  0.3275,  0.8121,  0.1954,\n",
       "          0.1866,  0.1609, -0.0861, -0.4217,  0.8393, -0.4994, -0.0296,  0.0237,\n",
       "          0.9999,  0.1208,  0.8503,  0.8672,  0.3473, -0.0164, -0.8604, -0.0553]],\n",
       "       grad_fn=<TanhBackward0>), hidden_states=None, past_key_values=None, attentions=None, cross_attentions=None)"
      ]
     },
     "execution_count": 71,
     "metadata": {},
     "output_type": "execute_result"
    }
   ],
   "source": [
    "outputs"
   ]
  },
  {
   "cell_type": "code",
   "execution_count": 69,
   "id": "international-foundation",
   "metadata": {},
   "outputs": [
    {
     "data": {
      "text/plain": [
       "torch.Size([1, 5])"
      ]
     },
     "execution_count": 69,
     "metadata": {},
     "output_type": "execute_result"
    }
   ],
   "source": [
    "#inputs = tokenizer(XX[0], return_tensors=\"pt\")\n",
    "inputs = tokenizer('osten är fin', return_tensors=\"pt\")\n",
    "inputs.input_ids.shape"
   ]
  },
  {
   "cell_type": "code",
   "execution_count": 78,
   "id": "quantitative-elizabeth",
   "metadata": {},
   "outputs": [
    {
     "data": {
      "text/plain": [
       "'es  directtv  has even launched its own branded dvr at the show with 100-hours of recording capability  instant replay  and a search function. the set can pause and rewind tv for up to 90 hours. and microsoft chief bill gates announced in his pre-show keynote speech a partnership with tivo  called tivotogo  which means people can play recorded programmes on windows pcs and mobile devices. all these reflect the increasing trend of freeing up multimedia so that people can watch what they want  when they want.'"
      ]
     },
     "execution_count": 78,
     "metadata": {},
     "output_type": "execute_result"
    }
   ],
   "source": [
    "XX[0][-512:]"
   ]
  },
  {
   "cell_type": "code",
   "execution_count": 30,
   "id": "useful-improvement",
   "metadata": {},
   "outputs": [
    {
     "data": {
      "text/plain": [
       "BaseModelOutputWithPoolingAndCrossAttentions(last_hidden_state=tensor([[[-0.3144,  1.2170, -0.7437,  ...,  0.1700,  0.4669, -0.3115],\n",
       "         [ 0.6579, -0.3438, -1.4500,  ...,  0.6935,  0.2233,  0.1434],\n",
       "         [-0.3583,  0.4933, -0.2427,  ...,  1.3677, -0.1086,  0.0453],\n",
       "         ...,\n",
       "         [ 0.4378,  0.5330,  0.2467,  ...,  0.4033,  0.4990,  0.0428],\n",
       "         [ 0.1118,  0.4356,  0.0494,  ...,  0.7913,  0.1189, -0.0349],\n",
       "         [-0.1026,  0.5173,  0.1724,  ..., -1.0310,  1.6315,  0.3193]]],\n",
       "       grad_fn=<NativeLayerNormBackward0>), pooler_output=tensor([[ 6.7337e-01, -9.9359e-02,  9.6207e-01, -1.4424e-02,  1.9335e-01,\n",
       "          7.9911e-02, -1.1110e-01, -3.2301e-01,  1.1621e-02, -9.5700e-01,\n",
       "         -2.5589e-01,  1.8800e-01,  1.3850e-01,  7.1234e-02,  1.3551e-02,\n",
       "          1.1380e-01,  1.2811e-01,  7.0249e-02,  1.7214e-01,  9.8747e-01,\n",
       "          3.2745e-01, -9.9781e-01,  5.8720e-02,  2.0472e-01,  6.0160e-02,\n",
       "         -8.1287e-01, -2.0260e-01, -6.9466e-01,  2.9594e-01, -9.5243e-02,\n",
       "         -7.7133e-02, -6.9070e-01, -9.9990e-01,  8.9897e-01,  1.4689e-02,\n",
       "          1.8551e-02,  2.2593e-01,  2.7666e-02, -3.6293e-01, -2.1535e-01,\n",
       "         -2.5078e-02,  9.4716e-01, -8.8319e-02, -9.1268e-01,  9.9604e-01,\n",
       "          1.4853e-01,  6.8792e-01,  9.8792e-01,  8.4464e-02, -1.2547e-01,\n",
       "         -8.7010e-02,  4.3835e-01,  2.2727e-01, -9.2171e-01,  3.2861e-01,\n",
       "         -2.6967e-01, -9.6691e-01, -7.2309e-02,  1.4994e-01, -8.7500e-01,\n",
       "          1.5599e-01, -5.8902e-01, -9.9821e-01,  9.3600e-01,  9.9476e-01,\n",
       "         -2.2227e-01,  2.6340e-01,  2.5417e-01, -3.0151e-01, -1.6108e-01,\n",
       "         -9.5877e-01,  1.5768e-01,  9.8648e-01,  5.8447e-01,  2.8800e-01,\n",
       "          6.2251e-01,  8.1946e-01, -2.9427e-01,  1.1573e-01,  1.0858e-01,\n",
       "         -4.0267e-01, -2.1615e-02,  3.4387e-01, -1.8722e-01, -9.3277e-02,\n",
       "         -1.7334e-01, -1.4463e-01,  1.3218e-01, -1.3842e-01,  1.0172e-01,\n",
       "         -7.6454e-02, -1.4413e-01,  6.9489e-02,  9.6471e-01,  7.9425e-02,\n",
       "          1.8912e-01, -1.6105e-01,  9.9989e-01,  1.6439e-01,  1.6425e-01,\n",
       "          9.5299e-01,  7.1232e-01, -9.7582e-01,  8.7345e-02,  9.5503e-01,\n",
       "         -8.7241e-01,  2.8715e-01, -1.6649e-01,  3.5908e-01, -9.9173e-01,\n",
       "          1.3420e-01, -9.7719e-01, -7.8156e-01, -3.1940e-01, -3.1110e-02,\n",
       "          1.8667e-01,  9.7093e-01, -2.5204e-01,  1.2692e-01, -2.2192e-01,\n",
       "          1.9806e-01, -2.1329e-01, -1.2191e-01,  1.8109e-01, -4.7688e-01,\n",
       "          2.5269e-01,  3.6980e-01,  9.2185e-01, -4.8190e-03,  5.2976e-01,\n",
       "          1.3820e-01, -9.0793e-01, -2.7307e-01,  9.0585e-01, -1.5083e-01,\n",
       "         -7.9201e-01, -1.3246e-01, -7.9530e-02, -2.4881e-01, -1.7180e-01,\n",
       "          1.2166e-01,  2.0915e-01, -9.9833e-01, -5.9343e-01, -4.1816e-02,\n",
       "         -2.3482e-01, -9.8446e-02,  9.6239e-01,  1.3309e-01, -7.3579e-01,\n",
       "         -9.0441e-01, -4.0615e-01, -6.9275e-01, -2.1734e-01,  9.9083e-01,\n",
       "         -1.8213e-01,  1.6437e-01,  9.5664e-01,  6.0329e-02, -3.4116e-02,\n",
       "          3.0246e-01,  1.6650e-01,  7.8717e-01,  9.1955e-01, -7.5964e-01,\n",
       "          1.4080e-02, -8.7330e-03, -1.2573e-01,  8.4273e-01, -2.6403e-01,\n",
       "         -4.5946e-02,  6.9200e-04,  6.9920e-02,  1.3454e-01, -3.7403e-01,\n",
       "          3.6991e-02,  2.8676e-01, -8.7296e-02, -9.3088e-01, -9.6817e-01,\n",
       "          9.9927e-01,  4.1193e-01,  4.6960e-01,  2.4381e-01, -9.0543e-02,\n",
       "         -2.4246e-01, -9.7735e-01, -2.4171e-01, -2.5746e-01,  6.2261e-02,\n",
       "         -9.9224e-01,  7.9202e-02, -9.7623e-01, -9.9674e-01, -9.7244e-01,\n",
       "         -5.5790e-02, -8.7902e-01, -1.5966e-01,  1.9643e-01,  1.2466e-01,\n",
       "          3.6688e-02,  3.5188e-01, -3.8130e-02,  2.8273e-01,  9.3310e-01,\n",
       "         -9.9415e-01, -9.4639e-01,  8.8914e-01,  9.0016e-01, -8.9373e-01,\n",
       "         -8.7745e-01, -7.1350e-01,  9.1304e-01, -1.3859e-01,  6.0408e-02,\n",
       "          2.2959e-02,  1.5454e-01,  9.8624e-01,  1.7060e-01,  6.5493e-01,\n",
       "          8.8679e-01,  2.3275e-01, -4.4292e-01, -9.2123e-02, -1.1541e-01,\n",
       "          8.4370e-01, -4.8051e-02, -7.5003e-02,  3.0624e-03,  9.6293e-01,\n",
       "         -9.9823e-01,  1.9549e-01,  6.4148e-01,  1.7366e-01,  9.9365e-01,\n",
       "         -9.9506e-01, -9.5286e-01,  1.7879e-01, -9.6297e-01,  9.2019e-01,\n",
       "         -2.3631e-01,  9.9894e-01, -1.6327e-01,  9.6682e-01, -9.4326e-01,\n",
       "          7.7041e-02,  7.0674e-01,  8.6691e-01, -8.4361e-02, -5.8366e-02,\n",
       "          9.1274e-01, -9.9445e-01, -6.0405e-02,  8.7322e-01,  8.6878e-01,\n",
       "          7.1983e-01,  3.5599e-01,  7.8608e-01, -1.4530e-01, -9.6541e-01,\n",
       "         -1.4370e-01,  2.4808e-02, -9.0305e-01,  2.1787e-01, -4.2158e-01,\n",
       "          7.6752e-01, -1.4558e-01, -1.6426e-01,  4.5981e-02, -7.0279e-02,\n",
       "          4.8762e-01, -4.8735e-02, -3.6349e-01,  9.4336e-01,  9.4889e-01,\n",
       "          9.9895e-01, -1.1495e-01, -9.7912e-01, -1.9393e-01, -9.1634e-03,\n",
       "          9.9989e-01, -2.6953e-01,  8.5912e-02, -2.5262e-01,  9.4095e-02,\n",
       "         -9.9893e-01, -5.1537e-01,  9.6898e-01,  6.8936e-01, -9.9461e-01,\n",
       "         -9.9017e-01,  9.9938e-01,  1.4532e-01, -2.0967e-01,  4.3203e-02,\n",
       "          1.1225e-01, -9.4103e-01,  2.9934e-02,  2.4705e-01, -7.9872e-01,\n",
       "         -3.4895e-02,  4.9922e-01,  3.0366e-01,  2.0896e-01, -7.2939e-02,\n",
       "         -5.7969e-02,  4.8358e-01, -1.8353e-02, -8.6874e-01, -1.4000e-01,\n",
       "         -1.5781e-01,  9.2988e-01, -9.8871e-01, -9.6699e-01,  8.6311e-01,\n",
       "         -8.5051e-01,  3.2634e-01, -9.5574e-01,  2.4748e-01,  8.8363e-02,\n",
       "          2.2939e-01, -5.0151e-01, -9.2009e-01, -1.7341e-01, -9.6166e-01,\n",
       "          3.2432e-01, -9.1746e-01, -1.6255e-01,  7.1654e-01, -3.9959e-01,\n",
       "         -1.0749e-01, -1.1711e-01,  2.3574e-02, -5.4047e-02, -9.9924e-01,\n",
       "          7.5171e-01, -9.5234e-01,  6.0643e-02,  3.3817e-01, -4.4026e-02,\n",
       "          2.7913e-01, -9.7220e-01,  2.5730e-01,  9.9968e-01, -9.3604e-01,\n",
       "          2.5713e-01, -9.0197e-01, -2.1398e-01, -9.3524e-02,  9.2137e-01,\n",
       "          1.5346e-01,  1.9383e-01,  2.1006e-01, -9.4860e-02, -1.4312e-01,\n",
       "          1.5308e-01,  3.2284e-01,  6.3347e-01,  2.2001e-01,  9.5203e-01,\n",
       "          2.6981e-01,  7.4972e-01, -9.8506e-01,  4.5164e-01,  1.1541e-02,\n",
       "         -2.2466e-02, -7.8244e-02, -9.9025e-01, -2.2022e-01, -5.4342e-02,\n",
       "          9.2368e-02, -1.8893e-01,  1.2550e-01,  2.2436e-01,  3.5937e-01,\n",
       "         -6.8765e-01,  1.0391e-01, -3.3270e-01,  9.6973e-01,  9.7923e-01,\n",
       "          5.3949e-02,  8.5590e-01,  2.2843e-01, -1.7648e-01, -2.8605e-02,\n",
       "         -3.5075e-02, -1.9563e-02,  2.3946e-01,  1.3938e-01,  1.6311e-01,\n",
       "         -1.3990e-01,  2.2563e-01, -2.1690e-01,  2.6487e-01,  1.5886e-01,\n",
       "          1.4095e-02,  8.9550e-01,  9.8795e-01, -8.5981e-02,  8.5905e-02,\n",
       "          9.3709e-01,  2.1023e-01, -2.7036e-01,  2.2487e-01, -9.8455e-01,\n",
       "         -3.8886e-01,  1.8247e-01, -2.0996e-01, -3.3526e-01, -2.8447e-01,\n",
       "         -1.1880e-01,  8.7577e-01,  5.0975e-02, -9.8389e-01,  9.6728e-01,\n",
       "         -1.0513e-01, -1.3343e-01, -9.9413e-01,  8.5872e-01, -6.5478e-01,\n",
       "          2.8584e-01,  9.9143e-01, -9.1169e-02, -4.5837e-02, -7.3387e-01,\n",
       "          9.0707e-01, -2.0260e-01, -2.4615e-01,  9.7049e-01,  9.2517e-01,\n",
       "          8.9226e-01,  2.3762e-01, -2.4430e-01, -8.0312e-01,  7.7173e-01,\n",
       "         -4.7539e-01,  8.0071e-01, -6.8112e-01, -1.1581e-02, -5.2477e-02,\n",
       "         -2.6036e-01,  2.4074e-01,  1.6243e-01,  9.7139e-01,  9.3007e-01,\n",
       "         -3.7456e-01, -1.1408e-01,  1.9527e-03,  1.6332e-01,  8.9120e-01,\n",
       "         -9.6717e-01,  1.3205e-01,  4.1407e-01,  1.5042e-01,  9.2883e-01,\n",
       "         -6.1527e-05,  9.7319e-01, -7.9552e-02,  9.0414e-02, -9.7289e-01,\n",
       "          7.1093e-01,  1.2703e-01, -7.1130e-01,  8.9370e-01,  1.7162e-01,\n",
       "          9.5607e-01, -6.8777e-01, -3.9177e-01,  2.1615e-01, -9.2792e-02,\n",
       "         -1.8102e-01,  9.9955e-01,  9.6372e-01,  4.2183e-03,  2.4022e-01,\n",
       "         -1.4974e-01,  2.9443e-01,  9.9994e-01,  4.4335e-02,  1.2630e-01,\n",
       "         -1.7673e-01, -9.8135e-02,  3.6175e-02,  2.2594e-01,  2.1525e-01,\n",
       "         -3.7768e-01,  1.7301e-01, -9.9924e-01, -4.4274e-01, -2.3575e-01,\n",
       "          5.2491e-02, -3.7986e-01,  7.5453e-02,  3.9759e-01,  9.5886e-02,\n",
       "         -4.0275e-01,  3.5730e-01,  8.8636e-01,  4.0930e-01,  9.0681e-01,\n",
       "          2.1867e-01,  1.2525e-01, -3.5066e-01, -1.4975e-01,  9.7375e-01,\n",
       "         -1.1272e-01, -2.9086e-01,  7.1158e-01,  3.3087e-01,  3.5481e-01,\n",
       "         -9.8693e-02, -9.3248e-01,  2.9245e-01,  9.7892e-02,  6.7964e-01,\n",
       "          9.5400e-01,  1.3123e-01,  2.0909e-01,  1.1254e-02,  1.9740e-01,\n",
       "         -2.2829e-02,  2.5425e-01,  9.5832e-01, -3.6368e-02, -9.8233e-03,\n",
       "         -4.5737e-01,  2.6752e-01, -8.2196e-03,  5.6613e-02,  7.3930e-02,\n",
       "          9.5581e-01,  9.7218e-01, -7.9926e-01,  5.4687e-02, -3.8046e-01,\n",
       "         -2.5181e-01, -6.8988e-04,  8.1595e-01,  9.5722e-01,  4.5776e-01,\n",
       "          1.0549e-01, -1.0353e-01,  2.9291e-01,  9.1583e-01,  1.3147e-01,\n",
       "          9.3609e-01,  8.9474e-01,  1.4543e-01,  9.9749e-01, -3.3870e-02,\n",
       "          2.7993e-01, -2.0249e-02,  9.8782e-01, -2.6414e-01, -6.9389e-02,\n",
       "          2.7403e-01, -1.1711e-02, -8.6443e-01,  1.6591e-01,  2.2996e-01,\n",
       "          2.8815e-01,  9.4980e-01,  1.1646e-01,  9.2684e-01, -6.8701e-02,\n",
       "          9.0014e-01, -4.6009e-02, -9.3907e-01,  9.9835e-01, -2.6813e-01,\n",
       "         -8.9272e-01,  1.2134e-01,  2.1704e-01, -1.7751e-01,  2.4326e-01,\n",
       "         -9.7431e-01, -9.5005e-01, -5.0463e-03, -1.3636e-01,  6.8318e-01,\n",
       "          8.2723e-02, -8.4929e-01, -4.5790e-02,  6.0488e-01,  5.7233e-02,\n",
       "          1.7281e-01, -7.6604e-02, -1.3356e-01,  2.6643e-01, -9.7221e-01,\n",
       "          1.0556e-01, -9.0074e-01,  2.6379e-01,  9.6926e-01, -9.6634e-02,\n",
       "          9.9072e-01,  9.8112e-01, -9.4991e-01, -3.5406e-02, -3.7846e-01,\n",
       "         -2.7898e-01, -9.3429e-01,  1.2312e-01,  2.4832e-01, -3.9520e-01,\n",
       "         -7.9862e-01,  7.5275e-02,  9.8252e-02, -2.2674e-01, -8.8016e-01,\n",
       "          1.5698e-01,  9.6796e-01,  1.1267e-01, -9.9754e-01,  8.6925e-02,\n",
       "         -9.1334e-01,  4.7997e-02,  1.2121e-02,  1.7518e-01, -4.0704e-01,\n",
       "         -7.7355e-02, -6.0053e-02, -8.0665e-02, -8.9807e-01, -4.6533e-01,\n",
       "         -9.9952e-01,  7.2307e-02,  4.4598e-02,  3.8447e-02, -1.4983e-01,\n",
       "          8.8211e-02, -1.3526e-01,  1.4615e-01, -1.7613e-01, -2.8898e-02,\n",
       "         -1.5929e-01,  8.7403e-01, -7.2881e-01, -4.5518e-01, -1.2920e-01,\n",
       "         -8.6359e-01,  2.1453e-01,  9.6270e-01,  2.3649e-02,  2.5229e-01,\n",
       "          9.9454e-01, -1.5578e-01, -6.4779e-02, -9.7465e-01, -2.6262e-03,\n",
       "          2.6075e-01,  9.0907e-02, -9.3328e-01,  1.5779e-01, -1.9517e-01,\n",
       "         -3.8499e-03, -8.6032e-01,  9.8600e-01,  2.5565e-01,  1.0460e-01,\n",
       "         -3.6202e-01, -2.6997e-01, -4.0062e-01,  9.2448e-01, -9.2731e-01,\n",
       "         -8.1640e-01,  3.1012e-01,  3.9255e-01,  3.4389e-01,  8.5036e-01,\n",
       "         -9.6381e-01,  9.9401e-01,  2.9063e-01, -6.2939e-01, -2.3049e-01,\n",
       "         -7.5961e-02,  9.8414e-01,  3.2004e-01, -2.6600e-01, -1.1373e-01,\n",
       "         -2.5230e-01,  7.7542e-02, -9.6395e-01,  1.0675e-01,  7.5793e-04,\n",
       "          9.7206e-02,  9.7985e-01,  5.8710e-02, -2.7285e-01, -1.7920e-01,\n",
       "          8.9752e-01,  9.5981e-01, -8.8492e-01, -8.9311e-02,  9.8012e-01,\n",
       "          1.8094e-01, -4.7708e-01,  9.6951e-01, -3.3061e-01, -9.5960e-01,\n",
       "         -8.1637e-02, -7.5178e-01, -2.4655e-01,  2.4955e-01, -1.1186e-01,\n",
       "          3.6665e-01, -9.7331e-01, -9.9851e-02, -9.9928e-01,  1.5077e-01,\n",
       "          2.3949e-01,  2.3028e-01,  1.7827e-01,  1.4015e-02,  8.9867e-01,\n",
       "          4.6492e-02, -6.0380e-01, -9.9214e-01, -9.1588e-01, -2.0189e-01,\n",
       "         -7.7120e-01,  8.9383e-01,  2.0197e-02, -2.0643e-01, -9.6620e-01,\n",
       "         -4.1829e-02, -2.5744e-01, -9.0600e-01,  9.7344e-01, -9.0375e-01,\n",
       "          1.0809e-01,  9.5430e-01,  2.8585e-01,  1.7976e-01,  9.9720e-01,\n",
       "         -2.1983e-01,  1.9028e-01, -3.8276e-02,  1.4019e-01, -1.1909e-01,\n",
       "          6.3592e-01,  1.8790e-01, -1.9466e-01, -8.3395e-01,  9.5363e-01,\n",
       "         -9.5688e-01, -3.8072e-01,  7.3832e-02, -1.7722e-01,  1.6985e-01,\n",
       "          9.3275e-01, -2.5686e-02,  2.2354e-01,  8.1320e-02,  2.1446e-01,\n",
       "          3.6787e-01,  9.7310e-01, -1.5472e-01,  2.5755e-01,  3.2714e-01,\n",
       "          9.9963e-01, -3.2718e-01, -4.3836e-01,  9.5494e-01,  3.2538e-01,\n",
       "          3.6801e-01, -9.6183e-01, -2.0296e-01]], grad_fn=<TanhBackward0>), hidden_states=None, past_key_values=None, attentions=None, cross_attentions=None)"
      ]
     },
     "execution_count": 30,
     "metadata": {},
     "output_type": "execute_result"
    }
   ],
   "source": [
    "outputs"
   ]
  },
  {
   "cell_type": "code",
   "execution_count": 122,
   "id": "noticed-postcard",
   "metadata": {},
   "outputs": [],
   "source": [
    "from sklearn.base import BaseEstimator, TransformerMixin\n",
    "from sklearn.pipeline import FeatureUnion, Pipeline\n",
    "from sklearn.multioutput import MultiOutputClassifier\n",
    "from sklearn.ensemble import RandomForestClassifier\n",
    "\n",
    "class NLPTransformer(TransformerMixin):\n",
    "    def __init__(self):\n",
    "        print('Init called')\n",
    "        self.model_name = 'KB/bert-base-swedish-cased'\n",
    "        self.Bert = AutoModel.from_pretrained(self.model_name)\n",
    "        self.Tokenizer = AutoTokenizer.from_pretrained(self.model_name)\n",
    "        \n",
    "    def fit(self, X, y=None):\n",
    "        print('Fit called')\n",
    "        \n",
    "        \n",
    "        return self\n",
    "        \n",
    "    def transform(self, X):\n",
    "        print('Transform Called')\n",
    "       \n",
    "        # Transform input tokens \n",
    "        transformed = []\n",
    "        for text in X:\n",
    "            print(f'text: {text}')\n",
    "            \n",
    "            inputs = self.Tokenizer(text, return_tensors=\"pt\", padding='max_length', max_length = 512, truncation=True)\n",
    "\n",
    "            # Run Bert model\n",
    "            outputs = self.Bert(**inputs)\n",
    "            #outputs['last_hidden_state'].detach().numpy().reshape(-1,)\n",
    "            outputs = outputs['pooler_output'].detach().numpy().reshape(-1,)\n",
    "            print(f'output shape: {outputs.shape}')\n",
    "            transformed.append(outputs)\n",
    "        \n",
    "        transformed = np.array(transformed)\n",
    "        print(f'transformed.shape: {transformed.shape}')\n",
    "        \n",
    "        return transformed"
   ]
  },
  {
   "cell_type": "code",
   "execution_count": 131,
   "id": "objective-credits",
   "metadata": {},
   "outputs": [],
   "source": [
    "#pipeline = Pipeline([    \n",
    "#            ('nlpTransformer', NLPTransformer()),\n",
    "#            ('clf', MultiOutputClassifier(RandomForestClassifier()))])"
   ]
  },
  {
   "cell_type": "code",
   "execution_count": 132,
   "id": "intermediate-turkish",
   "metadata": {},
   "outputs": [
    {
     "name": "stdout",
     "output_type": "stream",
     "text": [
      "Init called\n"
     ]
    },
    {
     "name": "stderr",
     "output_type": "stream",
     "text": [
      "Some weights of the model checkpoint at KB/bert-base-swedish-cased were not used when initializing BertModel: ['cls.predictions.transform.dense.weight', 'cls.predictions.decoder.weight', 'cls.predictions.transform.dense.bias', 'cls.predictions.transform.LayerNorm.bias', 'cls.predictions.bias', 'cls.predictions.transform.LayerNorm.weight', 'cls.predictions.decoder.bias']\n",
      "- This IS expected if you are initializing BertModel from the checkpoint of a model trained on another task or with another architecture (e.g. initializing a BertForSequenceClassification model from a BertForPreTraining model).\n",
      "- This IS NOT expected if you are initializing BertModel from the checkpoint of a model that you expect to be exactly identical (initializing a BertForSequenceClassification model from a BertForSequenceClassification model).\n"
     ]
    }
   ],
   "source": [
    "pipeline = Pipeline([    \n",
    "            ('nlpTransformer', NLPTransformer()),\n",
    "            ('clf', RandomForestClassifier())])"
   ]
  },
  {
   "cell_type": "code",
   "execution_count": null,
   "id": "engaged-scratch",
   "metadata": {},
   "outputs": [],
   "source": []
  },
  {
   "cell_type": "code",
   "execution_count": 48,
   "id": "cardiac-murray",
   "metadata": {},
   "outputs": [
    {
     "data": {
      "text/plain": [
       "odict_keys(['last_hidden_state', 'pooler_output'])"
      ]
     },
     "execution_count": 48,
     "metadata": {},
     "output_type": "execute_result"
    }
   ],
   "source": [
    "outputs.keys()"
   ]
  },
  {
   "cell_type": "code",
   "execution_count": 50,
   "id": "continental-reputation",
   "metadata": {},
   "outputs": [
    {
     "data": {
      "text/plain": [
       "torch.Size([1, 6, 768])"
      ]
     },
     "execution_count": 50,
     "metadata": {},
     "output_type": "execute_result"
    }
   ],
   "source": [
    "outputs['last_hidden_state'].shape"
   ]
  },
  {
   "cell_type": "code",
   "execution_count": 51,
   "id": "injured-guidance",
   "metadata": {},
   "outputs": [
    {
     "data": {
      "text/plain": [
       "torch.Size([1, 768])"
      ]
     },
     "execution_count": 51,
     "metadata": {},
     "output_type": "execute_result"
    }
   ],
   "source": [
    "outputs['pooler_output'].shape"
   ]
  },
  {
   "cell_type": "code",
   "execution_count": 56,
   "id": "indie-thumb",
   "metadata": {},
   "outputs": [
    {
     "data": {
      "text/plain": [
       "tensor([[[-0.3144,  1.2170, -0.7437,  ...,  0.1700,  0.4669, -0.3115],\n",
       "         [ 0.6579, -0.3438, -1.4500,  ...,  0.6935,  0.2233,  0.1434],\n",
       "         [-0.3583,  0.4933, -0.2427,  ...,  1.3677, -0.1086,  0.0453],\n",
       "         ...,\n",
       "         [ 0.4378,  0.5330,  0.2467,  ...,  0.4033,  0.4990,  0.0428],\n",
       "         [ 0.1118,  0.4356,  0.0494,  ...,  0.7913,  0.1189, -0.0349],\n",
       "         [-0.1026,  0.5173,  0.1724,  ..., -1.0310,  1.6315,  0.3193]]],\n",
       "       grad_fn=<NativeLayerNormBackward0>)"
      ]
     },
     "execution_count": 56,
     "metadata": {},
     "output_type": "execute_result"
    }
   ],
   "source": [
    "outputs['last_hidden_state']"
   ]
  },
  {
   "cell_type": "code",
   "execution_count": 33,
   "id": "ranking-demonstration",
   "metadata": {},
   "outputs": [
    {
     "data": {
      "text/plain": [
       "(7680,)"
      ]
     },
     "execution_count": 33,
     "metadata": {},
     "output_type": "execute_result"
    }
   ],
   "source": [
    "outputs['last_hidden_state'].detach().numpy().reshape(-1,).shape"
   ]
  },
  {
   "cell_type": "code",
   "execution_count": null,
   "id": "chemical-maria",
   "metadata": {},
   "outputs": [],
   "source": [
    "tokenizer.decode(inputs.input_ids[0])"
   ]
  },
  {
   "cell_type": "code",
   "execution_count": 10,
   "id": "regional-tunnel",
   "metadata": {},
   "outputs": [],
   "source": [
    "df = pd.read_csv('bbc-text.csv')"
   ]
  },
  {
   "cell_type": "code",
   "execution_count": 11,
   "id": "herbal-extraction",
   "metadata": {},
   "outputs": [
    {
     "data": {
      "text/html": [
       "<div>\n",
       "<style scoped>\n",
       "    .dataframe tbody tr th:only-of-type {\n",
       "        vertical-align: middle;\n",
       "    }\n",
       "\n",
       "    .dataframe tbody tr th {\n",
       "        vertical-align: top;\n",
       "    }\n",
       "\n",
       "    .dataframe thead th {\n",
       "        text-align: right;\n",
       "    }\n",
       "</style>\n",
       "<table border=\"1\" class=\"dataframe\">\n",
       "  <thead>\n",
       "    <tr style=\"text-align: right;\">\n",
       "      <th></th>\n",
       "      <th>category</th>\n",
       "      <th>text</th>\n",
       "    </tr>\n",
       "  </thead>\n",
       "  <tbody>\n",
       "    <tr>\n",
       "      <th>0</th>\n",
       "      <td>tech</td>\n",
       "      <td>tv future in the hands of viewers with home th...</td>\n",
       "    </tr>\n",
       "    <tr>\n",
       "      <th>1</th>\n",
       "      <td>business</td>\n",
       "      <td>worldcom boss  left books alone  former worldc...</td>\n",
       "    </tr>\n",
       "    <tr>\n",
       "      <th>2</th>\n",
       "      <td>sport</td>\n",
       "      <td>tigers wary of farrell  gamble  leicester say ...</td>\n",
       "    </tr>\n",
       "    <tr>\n",
       "      <th>3</th>\n",
       "      <td>sport</td>\n",
       "      <td>yeading face newcastle in fa cup premiership s...</td>\n",
       "    </tr>\n",
       "    <tr>\n",
       "      <th>4</th>\n",
       "      <td>entertainment</td>\n",
       "      <td>ocean s twelve raids box office ocean s twelve...</td>\n",
       "    </tr>\n",
       "  </tbody>\n",
       "</table>\n",
       "</div>"
      ],
      "text/plain": [
       "        category                                               text\n",
       "0           tech  tv future in the hands of viewers with home th...\n",
       "1       business  worldcom boss  left books alone  former worldc...\n",
       "2          sport  tigers wary of farrell  gamble  leicester say ...\n",
       "3          sport  yeading face newcastle in fa cup premiership s...\n",
       "4  entertainment  ocean s twelve raids box office ocean s twelve..."
      ]
     },
     "execution_count": 11,
     "metadata": {},
     "output_type": "execute_result"
    }
   ],
   "source": [
    "df.head()"
   ]
  },
  {
   "cell_type": "code",
   "execution_count": 13,
   "id": "introductory-crawford",
   "metadata": {},
   "outputs": [
    {
     "data": {
      "text/plain": [
       "array(['tech', 'business', 'sport', 'entertainment', 'politics'],\n",
       "      dtype=object)"
      ]
     },
     "execution_count": 13,
     "metadata": {},
     "output_type": "execute_result"
    }
   ],
   "source": [
    "df['category'].unique()"
   ]
  },
  {
   "cell_type": "code",
   "execution_count": 15,
   "id": "czech-remove",
   "metadata": {},
   "outputs": [],
   "source": [
    "df2 = pd.get_dummies(df, prefix=['category'], columns=['category'])"
   ]
  },
  {
   "cell_type": "code",
   "execution_count": 16,
   "id": "secure-wiring",
   "metadata": {},
   "outputs": [],
   "source": [
    "X = df2['text']"
   ]
  },
  {
   "cell_type": "code",
   "execution_count": 20,
   "id": "canadian-eight",
   "metadata": {},
   "outputs": [],
   "source": [
    "y = df2.drop(columns=['text'])"
   ]
  },
  {
   "cell_type": "code",
   "execution_count": 22,
   "id": "bizarre-blackberry",
   "metadata": {},
   "outputs": [
    {
     "data": {
      "text/plain": [
       "0       tv future in the hands of viewers with home th...\n",
       "1       worldcom boss  left books alone  former worldc...\n",
       "2       tigers wary of farrell  gamble  leicester say ...\n",
       "3       yeading face newcastle in fa cup premiership s...\n",
       "4       ocean s twelve raids box office ocean s twelve...\n",
       "                              ...                        \n",
       "2220    cars pull down us retail figures us retail sal...\n",
       "2221    kilroy unveils immigration policy ex-chatshow ...\n",
       "2222    rem announce new glasgow concert us band rem h...\n",
       "2223    how political squabbles snowball it s become c...\n",
       "2224    souness delight at euro progress boss graeme s...\n",
       "Name: text, Length: 2225, dtype: object"
      ]
     },
     "execution_count": 22,
     "metadata": {},
     "output_type": "execute_result"
    }
   ],
   "source": [
    "X"
   ]
  },
  {
   "cell_type": "code",
   "execution_count": 23,
   "id": "vulnerable-drive",
   "metadata": {},
   "outputs": [
    {
     "data": {
      "text/html": [
       "<div>\n",
       "<style scoped>\n",
       "    .dataframe tbody tr th:only-of-type {\n",
       "        vertical-align: middle;\n",
       "    }\n",
       "\n",
       "    .dataframe tbody tr th {\n",
       "        vertical-align: top;\n",
       "    }\n",
       "\n",
       "    .dataframe thead th {\n",
       "        text-align: right;\n",
       "    }\n",
       "</style>\n",
       "<table border=\"1\" class=\"dataframe\">\n",
       "  <thead>\n",
       "    <tr style=\"text-align: right;\">\n",
       "      <th></th>\n",
       "      <th>category_business</th>\n",
       "      <th>category_entertainment</th>\n",
       "      <th>category_politics</th>\n",
       "      <th>category_sport</th>\n",
       "      <th>category_tech</th>\n",
       "    </tr>\n",
       "  </thead>\n",
       "  <tbody>\n",
       "    <tr>\n",
       "      <th>0</th>\n",
       "      <td>0</td>\n",
       "      <td>0</td>\n",
       "      <td>0</td>\n",
       "      <td>0</td>\n",
       "      <td>1</td>\n",
       "    </tr>\n",
       "    <tr>\n",
       "      <th>1</th>\n",
       "      <td>1</td>\n",
       "      <td>0</td>\n",
       "      <td>0</td>\n",
       "      <td>0</td>\n",
       "      <td>0</td>\n",
       "    </tr>\n",
       "    <tr>\n",
       "      <th>2</th>\n",
       "      <td>0</td>\n",
       "      <td>0</td>\n",
       "      <td>0</td>\n",
       "      <td>1</td>\n",
       "      <td>0</td>\n",
       "    </tr>\n",
       "    <tr>\n",
       "      <th>3</th>\n",
       "      <td>0</td>\n",
       "      <td>0</td>\n",
       "      <td>0</td>\n",
       "      <td>1</td>\n",
       "      <td>0</td>\n",
       "    </tr>\n",
       "    <tr>\n",
       "      <th>4</th>\n",
       "      <td>0</td>\n",
       "      <td>1</td>\n",
       "      <td>0</td>\n",
       "      <td>0</td>\n",
       "      <td>0</td>\n",
       "    </tr>\n",
       "    <tr>\n",
       "      <th>...</th>\n",
       "      <td>...</td>\n",
       "      <td>...</td>\n",
       "      <td>...</td>\n",
       "      <td>...</td>\n",
       "      <td>...</td>\n",
       "    </tr>\n",
       "    <tr>\n",
       "      <th>2220</th>\n",
       "      <td>1</td>\n",
       "      <td>0</td>\n",
       "      <td>0</td>\n",
       "      <td>0</td>\n",
       "      <td>0</td>\n",
       "    </tr>\n",
       "    <tr>\n",
       "      <th>2221</th>\n",
       "      <td>0</td>\n",
       "      <td>0</td>\n",
       "      <td>1</td>\n",
       "      <td>0</td>\n",
       "      <td>0</td>\n",
       "    </tr>\n",
       "    <tr>\n",
       "      <th>2222</th>\n",
       "      <td>0</td>\n",
       "      <td>1</td>\n",
       "      <td>0</td>\n",
       "      <td>0</td>\n",
       "      <td>0</td>\n",
       "    </tr>\n",
       "    <tr>\n",
       "      <th>2223</th>\n",
       "      <td>0</td>\n",
       "      <td>0</td>\n",
       "      <td>1</td>\n",
       "      <td>0</td>\n",
       "      <td>0</td>\n",
       "    </tr>\n",
       "    <tr>\n",
       "      <th>2224</th>\n",
       "      <td>0</td>\n",
       "      <td>0</td>\n",
       "      <td>0</td>\n",
       "      <td>1</td>\n",
       "      <td>0</td>\n",
       "    </tr>\n",
       "  </tbody>\n",
       "</table>\n",
       "<p>2225 rows × 5 columns</p>\n",
       "</div>"
      ],
      "text/plain": [
       "      category_business  category_entertainment  category_politics  \\\n",
       "0                     0                       0                  0   \n",
       "1                     1                       0                  0   \n",
       "2                     0                       0                  0   \n",
       "3                     0                       0                  0   \n",
       "4                     0                       1                  0   \n",
       "...                 ...                     ...                ...   \n",
       "2220                  1                       0                  0   \n",
       "2221                  0                       0                  1   \n",
       "2222                  0                       1                  0   \n",
       "2223                  0                       0                  1   \n",
       "2224                  0                       0                  0   \n",
       "\n",
       "      category_sport  category_tech  \n",
       "0                  0              1  \n",
       "1                  0              0  \n",
       "2                  1              0  \n",
       "3                  1              0  \n",
       "4                  0              0  \n",
       "...              ...            ...  \n",
       "2220               0              0  \n",
       "2221               0              0  \n",
       "2222               0              0  \n",
       "2223               0              0  \n",
       "2224               1              0  \n",
       "\n",
       "[2225 rows x 5 columns]"
      ]
     },
     "execution_count": 23,
     "metadata": {},
     "output_type": "execute_result"
    }
   ],
   "source": [
    "y"
   ]
  },
  {
   "cell_type": "code",
   "execution_count": 46,
   "id": "stretch-moses",
   "metadata": {},
   "outputs": [],
   "source": [
    "XX = [a for a in X]"
   ]
  },
  {
   "cell_type": "code",
   "execution_count": 52,
   "id": "alpine-dancing",
   "metadata": {},
   "outputs": [
    {
     "data": {
      "text/plain": [
       "2225"
      ]
     },
     "execution_count": 52,
     "metadata": {},
     "output_type": "execute_result"
    }
   ],
   "source": [
    "len(XX)"
   ]
  },
  {
   "cell_type": "code",
   "execution_count": 54,
   "id": "unknown-metabolism",
   "metadata": {},
   "outputs": [
    {
     "data": {
      "text/plain": [
       "'worldcom boss  left books alone  former worldcom boss bernie ebbers  who is accused of overseeing an $11bn (£5.8bn) fraud  never made accounting decisions  a witness has told jurors.  david myers made the comments under questioning by defence lawyers who have been arguing that mr ebbers was not responsible for worldcom s problems. the phone company collapsed in 2002 and prosecutors claim that losses were hidden to protect the firm s shares. mr myers has already pleaded guilty to fraud and is assisting prosecutors.  on monday  defence lawyer reid weingarten tried to distance his client from the allegations. during cross examination  he asked mr myers if he ever knew mr ebbers  make an accounting decision  .  not that i am aware of   mr myers replied.  did you ever know mr ebbers to make an accounting entry into worldcom books   mr weingarten pressed.  no   replied the witness. mr myers has admitted that he ordered false accounting entries at the request of former worldcom chief financial officer scott sullivan. defence lawyers have been trying to paint mr sullivan  who has admitted fraud and will testify later in the trial  as the mastermind behind worldcom s accounting house of cards.  mr ebbers  team  meanwhile  are looking to portray him as an affable boss  who by his own admission is more pe graduate than economist. whatever his abilities  mr ebbers transformed worldcom from a relative unknown into a $160bn telecoms giant and investor darling of the late 1990s. worldcom s problems mounted  however  as competition increased and the telecoms boom petered out. when the firm finally collapsed  shareholders lost about $180bn and 20 000 workers lost their jobs. mr ebbers  trial is expected to last two months and if found guilty the former ceo faces a substantial jail sentence. he has firmly declared his innocence.'"
      ]
     },
     "execution_count": 54,
     "metadata": {},
     "output_type": "execute_result"
    }
   ],
   "source": [
    "XX[1]"
   ]
  },
  {
   "cell_type": "code",
   "execution_count": 137,
   "id": "stone-november",
   "metadata": {},
   "outputs": [
    {
     "name": "stdout",
     "output_type": "stream",
     "text": [
      "Fit called\n",
      "Transform Called\n",
      "text: tv future in the hands of viewers with home theatre systems  plasma high-definition tvs  and digital video recorders moving into the living room  the way people watch tv will be radically different in five years  time.  that is according to an expert panel which gathered at the annual consumer electronics show in las vegas to discuss how these new technologies will impact one of our favourite pastimes. with the us leading the trend  programmes and other content will be delivered to viewers via home networks  through cable  satellite  telecoms companies  and broadband service providers to front rooms and portable devices.  one of the most talked-about technologies of ces has been digital and personal video recorders (dvr and pvr). these set-top boxes  like the us s tivo and the uk s sky+ system  allow people to record  store  play  pause and forward wind tv programmes when they want.  essentially  the technology allows for much more personalised tv. they are also being built-in to high-definition tv sets  which are big business in japan and the us  but slower to take off in europe because of the lack of high-definition programming. not only can people forward wind through adverts  they can also forget about abiding by network and channel schedules  putting together their own a-la-carte entertainment. but some us networks and cable and satellite companies are worried about what it means for them in terms of advertising revenues as well as  brand identity  and viewer loyalty to channels. although the us leads in this technology at the moment  it is also a concern that is being raised in europe  particularly with the growing uptake of services like sky+.  what happens here today  we will see in nine months to a years  time in the uk   adam hume  the bbc broadcast s futurologist told the bbc news website. for the likes of the bbc  there are no issues of lost advertising revenue yet. it is a more pressing issue at the moment for commercial uk broadcasters  but brand loyalty is important for everyone.  we will be talking more about content brands rather than network brands   said tim hanlon  from brand communications firm starcom mediavest.  the reality is that with broadband connections  anybody can be the producer of content.  he added:  the challenge now is that it is hard to promote a programme with so much choice.   what this means  said stacey jolna  senior vice president of tv guide tv group  is that the way people find the content they want to watch has to be simplified for tv viewers. it means that networks  in us terms  or channels could take a leaf out of google s book and be the search engine of the future  instead of the scheduler to help people find what they want to watch. this kind of channel model might work for the younger ipod generation which is used to taking control of their gadgets and what they play on them. but it might not suit everyone  the panel recognised. older generations are more comfortable with familiar schedules and channel brands because they know what they are getting. they perhaps do not want so much of the choice put into their hands  mr hanlon suggested.  on the other end  you have the kids just out of diapers who are pushing buttons already - everything is possible and available to them   said mr hanlon.  ultimately  the consumer will tell the market they want.   of the 50 000 new gadgets and technologies being showcased at ces  many of them are about enhancing the tv-watching experience. high-definition tv sets are everywhere and many new models of lcd (liquid crystal display) tvs have been launched with dvr capability built into them  instead of being external boxes. one such example launched at the show is humax s 26-inch lcd tv with an 80-hour tivo dvr and dvd recorder. one of the us s biggest satellite tv companies  directtv  has even launched its own branded dvr at the show with 100-hours of recording capability  instant replay  and a search function. the set can pause and rewind tv for up to 90 hours. and microsoft chief bill gates announced in his pre-show keynote speech a partnership with tivo  called tivotogo  which means people can play recorded programmes on windows pcs and mobile devices. all these reflect the increasing trend of freeing up multimedia so that people can watch what they want  when they want.\n",
      "output shape: (768,)\n",
      "text: worldcom boss  left books alone  former worldcom boss bernie ebbers  who is accused of overseeing an $11bn (£5.8bn) fraud  never made accounting decisions  a witness has told jurors.  david myers made the comments under questioning by defence lawyers who have been arguing that mr ebbers was not responsible for worldcom s problems. the phone company collapsed in 2002 and prosecutors claim that losses were hidden to protect the firm s shares. mr myers has already pleaded guilty to fraud and is assisting prosecutors.  on monday  defence lawyer reid weingarten tried to distance his client from the allegations. during cross examination  he asked mr myers if he ever knew mr ebbers  make an accounting decision  .  not that i am aware of   mr myers replied.  did you ever know mr ebbers to make an accounting entry into worldcom books   mr weingarten pressed.  no   replied the witness. mr myers has admitted that he ordered false accounting entries at the request of former worldcom chief financial officer scott sullivan. defence lawyers have been trying to paint mr sullivan  who has admitted fraud and will testify later in the trial  as the mastermind behind worldcom s accounting house of cards.  mr ebbers  team  meanwhile  are looking to portray him as an affable boss  who by his own admission is more pe graduate than economist. whatever his abilities  mr ebbers transformed worldcom from a relative unknown into a $160bn telecoms giant and investor darling of the late 1990s. worldcom s problems mounted  however  as competition increased and the telecoms boom petered out. when the firm finally collapsed  shareholders lost about $180bn and 20 000 workers lost their jobs. mr ebbers  trial is expected to last two months and if found guilty the former ceo faces a substantial jail sentence. he has firmly declared his innocence.\n",
      "output shape: (768,)\n",
      "text: tigers wary of farrell  gamble  leicester say they will not be rushed into making a bid for andy farrell should the great britain rugby league captain decide to switch codes.   we and anybody else involved in the process are still some way away from going to the next stage   tigers boss john wells told bbc radio leicester.  at the moment  there are still a lot of unknowns about andy farrell  not least his medical situation.  whoever does take him on is going to take a big  big gamble.  farrell  who has had persistent knee problems  had an operation on his knee five weeks ago and is expected to be out for another three months. leicester and saracens are believed to head the list of rugby union clubs interested in signing farrell if he decides to move to the 15-man game.  if he does move across to union  wells believes he would better off playing in the backs  at least initially.  i m sure he could make the step between league and union by being involved in the centre   said wells.  i think england would prefer him to progress to a position in the back row where they can make use of some of his rugby league skills within the forwards.  the jury is out on whether he can cross that divide.  at this club  the balance will have to be struck between the cost of that gamble and the option of bringing in a ready-made replacement.\n",
      "output shape: (768,)\n",
      "text: yeading face newcastle in fa cup premiership side newcastle united face a trip to ryman premier league leaders yeading in the fa cup third round.  the game - arguably the highlight of the draw - is a potential money-spinner for non-league yeading  who beat slough in the second round. conference side exeter city  who knocked out doncaster on saturday  will travel to old trafford to meet holders manchester united in january. arsenal were drawn at home to stoke and chelsea will play host to scunthorpe. the only other non-league side in the draw are hinckley united  who held brentford to a goalless draw on sunday. they will meet league one leaders luton if they win their replay against martin allen s team at griffin park.  a number of premiership teams face difficult away games against championship sides on the weekend of 8/9 january. third-placed everton visit plymouth  liverpool travel to burnley  crystal palace go to sunderland  fulham face carling cup semi-finalists watford  bolton meet ipswich  while aston villa were drawn against sheffield united. premiership strugglers norwich  blackburn  west brom are away at west ham  cardiff and preston north end respectively. southampton visit northampton  having already beaten the league two side in the carling cup earlier this season. middlesbrough were drawn away against either swindon or notts county  while spurs entertain brighton at white hart lane.  arsenal v stoke  swindon/notts co v middlesbrough  man utd v exeter  plymouth v everton  leicester v blackpool  derby v wigan  sunderland v crystal palace  wolves v millwall  yeading v newcastle  hull v colchester  tottenham v brighton  reading v stockport/swansea  birmingham v leeds  hartlepool v boston  milton keynes dons v peterborough  oldham v man city  chelsea v scunthorpe  cardiff v blackburn  charlton v rochdale  west ham v norwich  sheff utd v aston villa  preston v west brom  rotherham v yeovil  burnley v liverpool  bournemouth v chester  coventry v crewe  watford v fulham  ipswich v bolton  portsmouth v gillingham  northampton v southampton  qpr v nottm forest  luton v hinckley/brentford  matches to be played on weekend of 8/9 january.\n"
     ]
    },
    {
     "name": "stdout",
     "output_type": "stream",
     "text": [
      "output shape: (768,)\n",
      "text: ocean s twelve raids box office ocean s twelve  the crime caper sequel starring george clooney  brad pitt and julia roberts  has gone straight to number one in the us box office chart.  it took $40.8m (£21m) in weekend ticket sales  according to studio estimates. the sequel follows the master criminals as they try to pull off three major heists across europe. it knocked last week s number one  national treasure  into third place. wesley snipes  blade: trinity was in second  taking $16.1m (£8.4m). rounding out the top five was animated fable the polar express  starring tom hanks  and festive comedy christmas with the kranks.  ocean s twelve box office triumph marks the fourth-biggest opening for a december release in the us  after the three films in the lord of the rings trilogy. the sequel narrowly beat its 2001 predecessor  ocean s eleven which took $38.1m (£19.8m) on its opening weekend and $184m (£95.8m) in total. a remake of the 1960s film  starring frank sinatra and the rat pack  ocean s eleven was directed by oscar-winning director steven soderbergh. soderbergh returns to direct the hit sequel which reunites clooney  pitt and roberts with matt damon  andy garcia and elliott gould. catherine zeta-jones joins the all-star cast.  it s just a fun  good holiday movie   said dan fellman  president of distribution at warner bros. however  us critics were less complimentary about the $110m (£57.2m) project  with the los angeles times labelling it a  dispiriting vanity project . a milder review in the new york times dubbed the sequel  unabashedly trivial .\n",
      "output shape: (768,)\n",
      "transformed.shape: (5, 768)\n"
     ]
    }
   ],
   "source": [
    "#output = pipeline.fit(XX[0:5],y.iloc[0:5].values)\n",
    "output = pipeline.fit(X.iloc[0:5],y.iloc[0:5].values)"
   ]
  },
  {
   "cell_type": "code",
   "execution_count": 136,
   "id": "indoor-halifax",
   "metadata": {},
   "outputs": [
    {
     "name": "stdout",
     "output_type": "stream",
     "text": [
      "Transform Called\n",
      "text: tv future in the hands of viewers with home theatre systems  plasma high-definition tvs  and digital video recorders moving into the living room  the way people watch tv will be radically different in five years  time.  that is according to an expert panel which gathered at the annual consumer electronics show in las vegas to discuss how these new technologies will impact one of our favourite pastimes. with the us leading the trend  programmes and other content will be delivered to viewers via home networks  through cable  satellite  telecoms companies  and broadband service providers to front rooms and portable devices.  one of the most talked-about technologies of ces has been digital and personal video recorders (dvr and pvr). these set-top boxes  like the us s tivo and the uk s sky+ system  allow people to record  store  play  pause and forward wind tv programmes when they want.  essentially  the technology allows for much more personalised tv. they are also being built-in to high-definition tv sets  which are big business in japan and the us  but slower to take off in europe because of the lack of high-definition programming. not only can people forward wind through adverts  they can also forget about abiding by network and channel schedules  putting together their own a-la-carte entertainment. but some us networks and cable and satellite companies are worried about what it means for them in terms of advertising revenues as well as  brand identity  and viewer loyalty to channels. although the us leads in this technology at the moment  it is also a concern that is being raised in europe  particularly with the growing uptake of services like sky+.  what happens here today  we will see in nine months to a years  time in the uk   adam hume  the bbc broadcast s futurologist told the bbc news website. for the likes of the bbc  there are no issues of lost advertising revenue yet. it is a more pressing issue at the moment for commercial uk broadcasters  but brand loyalty is important for everyone.  we will be talking more about content brands rather than network brands   said tim hanlon  from brand communications firm starcom mediavest.  the reality is that with broadband connections  anybody can be the producer of content.  he added:  the challenge now is that it is hard to promote a programme with so much choice.   what this means  said stacey jolna  senior vice president of tv guide tv group  is that the way people find the content they want to watch has to be simplified for tv viewers. it means that networks  in us terms  or channels could take a leaf out of google s book and be the search engine of the future  instead of the scheduler to help people find what they want to watch. this kind of channel model might work for the younger ipod generation which is used to taking control of their gadgets and what they play on them. but it might not suit everyone  the panel recognised. older generations are more comfortable with familiar schedules and channel brands because they know what they are getting. they perhaps do not want so much of the choice put into their hands  mr hanlon suggested.  on the other end  you have the kids just out of diapers who are pushing buttons already - everything is possible and available to them   said mr hanlon.  ultimately  the consumer will tell the market they want.   of the 50 000 new gadgets and technologies being showcased at ces  many of them are about enhancing the tv-watching experience. high-definition tv sets are everywhere and many new models of lcd (liquid crystal display) tvs have been launched with dvr capability built into them  instead of being external boxes. one such example launched at the show is humax s 26-inch lcd tv with an 80-hour tivo dvr and dvd recorder. one of the us s biggest satellite tv companies  directtv  has even launched its own branded dvr at the show with 100-hours of recording capability  instant replay  and a search function. the set can pause and rewind tv for up to 90 hours. and microsoft chief bill gates announced in his pre-show keynote speech a partnership with tivo  called tivotogo  which means people can play recorded programmes on windows pcs and mobile devices. all these reflect the increasing trend of freeing up multimedia so that people can watch what they want  when they want.\n",
      "output shape: (768,)\n",
      "text: worldcom boss  left books alone  former worldcom boss bernie ebbers  who is accused of overseeing an $11bn (£5.8bn) fraud  never made accounting decisions  a witness has told jurors.  david myers made the comments under questioning by defence lawyers who have been arguing that mr ebbers was not responsible for worldcom s problems. the phone company collapsed in 2002 and prosecutors claim that losses were hidden to protect the firm s shares. mr myers has already pleaded guilty to fraud and is assisting prosecutors.  on monday  defence lawyer reid weingarten tried to distance his client from the allegations. during cross examination  he asked mr myers if he ever knew mr ebbers  make an accounting decision  .  not that i am aware of   mr myers replied.  did you ever know mr ebbers to make an accounting entry into worldcom books   mr weingarten pressed.  no   replied the witness. mr myers has admitted that he ordered false accounting entries at the request of former worldcom chief financial officer scott sullivan. defence lawyers have been trying to paint mr sullivan  who has admitted fraud and will testify later in the trial  as the mastermind behind worldcom s accounting house of cards.  mr ebbers  team  meanwhile  are looking to portray him as an affable boss  who by his own admission is more pe graduate than economist. whatever his abilities  mr ebbers transformed worldcom from a relative unknown into a $160bn telecoms giant and investor darling of the late 1990s. worldcom s problems mounted  however  as competition increased and the telecoms boom petered out. when the firm finally collapsed  shareholders lost about $180bn and 20 000 workers lost their jobs. mr ebbers  trial is expected to last two months and if found guilty the former ceo faces a substantial jail sentence. he has firmly declared his innocence.\n",
      "output shape: (768,)\n",
      "text: tigers wary of farrell  gamble  leicester say they will not be rushed into making a bid for andy farrell should the great britain rugby league captain decide to switch codes.   we and anybody else involved in the process are still some way away from going to the next stage   tigers boss john wells told bbc radio leicester.  at the moment  there are still a lot of unknowns about andy farrell  not least his medical situation.  whoever does take him on is going to take a big  big gamble.  farrell  who has had persistent knee problems  had an operation on his knee five weeks ago and is expected to be out for another three months. leicester and saracens are believed to head the list of rugby union clubs interested in signing farrell if he decides to move to the 15-man game.  if he does move across to union  wells believes he would better off playing in the backs  at least initially.  i m sure he could make the step between league and union by being involved in the centre   said wells.  i think england would prefer him to progress to a position in the back row where they can make use of some of his rugby league skills within the forwards.  the jury is out on whether he can cross that divide.  at this club  the balance will have to be struck between the cost of that gamble and the option of bringing in a ready-made replacement.\n",
      "output shape: (768,)\n",
      "text: yeading face newcastle in fa cup premiership side newcastle united face a trip to ryman premier league leaders yeading in the fa cup third round.  the game - arguably the highlight of the draw - is a potential money-spinner for non-league yeading  who beat slough in the second round. conference side exeter city  who knocked out doncaster on saturday  will travel to old trafford to meet holders manchester united in january. arsenal were drawn at home to stoke and chelsea will play host to scunthorpe. the only other non-league side in the draw are hinckley united  who held brentford to a goalless draw on sunday. they will meet league one leaders luton if they win their replay against martin allen s team at griffin park.  a number of premiership teams face difficult away games against championship sides on the weekend of 8/9 january. third-placed everton visit plymouth  liverpool travel to burnley  crystal palace go to sunderland  fulham face carling cup semi-finalists watford  bolton meet ipswich  while aston villa were drawn against sheffield united. premiership strugglers norwich  blackburn  west brom are away at west ham  cardiff and preston north end respectively. southampton visit northampton  having already beaten the league two side in the carling cup earlier this season. middlesbrough were drawn away against either swindon or notts county  while spurs entertain brighton at white hart lane.  arsenal v stoke  swindon/notts co v middlesbrough  man utd v exeter  plymouth v everton  leicester v blackpool  derby v wigan  sunderland v crystal palace  wolves v millwall  yeading v newcastle  hull v colchester  tottenham v brighton  reading v stockport/swansea  birmingham v leeds  hartlepool v boston  milton keynes dons v peterborough  oldham v man city  chelsea v scunthorpe  cardiff v blackburn  charlton v rochdale  west ham v norwich  sheff utd v aston villa  preston v west brom  rotherham v yeovil  burnley v liverpool  bournemouth v chester  coventry v crewe  watford v fulham  ipswich v bolton  portsmouth v gillingham  northampton v southampton  qpr v nottm forest  luton v hinckley/brentford  matches to be played on weekend of 8/9 january.\n"
     ]
    },
    {
     "name": "stdout",
     "output_type": "stream",
     "text": [
      "output shape: (768,)\n",
      "text: ocean s twelve raids box office ocean s twelve  the crime caper sequel starring george clooney  brad pitt and julia roberts  has gone straight to number one in the us box office chart.  it took $40.8m (£21m) in weekend ticket sales  according to studio estimates. the sequel follows the master criminals as they try to pull off three major heists across europe. it knocked last week s number one  national treasure  into third place. wesley snipes  blade: trinity was in second  taking $16.1m (£8.4m). rounding out the top five was animated fable the polar express  starring tom hanks  and festive comedy christmas with the kranks.  ocean s twelve box office triumph marks the fourth-biggest opening for a december release in the us  after the three films in the lord of the rings trilogy. the sequel narrowly beat its 2001 predecessor  ocean s eleven which took $38.1m (£19.8m) on its opening weekend and $184m (£95.8m) in total. a remake of the 1960s film  starring frank sinatra and the rat pack  ocean s eleven was directed by oscar-winning director steven soderbergh. soderbergh returns to direct the hit sequel which reunites clooney  pitt and roberts with matt damon  andy garcia and elliott gould. catherine zeta-jones joins the all-star cast.  it s just a fun  good holiday movie   said dan fellman  president of distribution at warner bros. however  us critics were less complimentary about the $110m (£57.2m) project  with the los angeles times labelling it a  dispiriting vanity project . a milder review in the new york times dubbed the sequel  unabashedly trivial .\n",
      "output shape: (768,)\n",
      "text: howard hits back at mongrel jibe michael howard has said a claim by peter hain that the tory leader is acting like an  attack mongrel  shows labour is  rattled  by the opposition.  in an upbeat speech to his party s spring conference in brighton  he said labour s campaigning tactics proved the tories were hitting home. mr hain made the claim about tory tactics in the anti-terror bill debate.  something tells me that someone  somewhere out there is just a little bit rattled   mr howard said. mr hain  leader of the commons  told bbc radio four s today programme that mr howard s stance on the government s anti-terrorism legislation was putting the country at risk. he then accused the tory leader of behaving like an  attack mongrel  and  playing opposition for opposition sake .  mr howard told his party that labour would  do anything  say anything  claim anything to cling on to office at all costs .  so far this year they have compared me to fagin  to shylock and to a flying pig. this morning peter hain even called me a mongrel.  i don t know about you  but something tells me that someone  somewhere out there is just a little bit rattled.  environment secretary margaret beckett rejected mr howard s comment  telling radio 4 s pm programme that labour was not  rattled .  we have a very real duty to try to get people to focus on michael howard s record  what the proposals are that he is trying to put forward to the country and also the many examples we are seeing now of what we believe is really poor judgement on his behalf.   mr howard said tory policies on schools  taxes  immigration and crime were striking a chord with voters.   since the beginning of this year - election year - we ve been making the political weather   he told the party conference. mr howard denied he had been  playing politics  by raising the case of margaret dixon  whose operation had been cancelled seven times  which grabbed headlines for the party two weeks ago. and he hit back at labour claims he had used mrs dixon as a  human shield .  she s not a human shield mr blair  she s a human being.  mr howard said his party plans for immigration quotas  which have also been the focus of much media coverage  were not  racist  - just  common sense .  he pledged cleaner hospitals and better school discipline  with a promise to get rid of  political correctness  in the national curriculum and give everyone to the same chance of a  decent  state education as he had.  i come from an ordinary family. if the teenage michael howard were applying to cambridge today  gordon brown would love me.   and he stressed his party s commitment to cut taxes and red tape and increase the basic state pension in line with earnings. he finished with a personal appeal to party activists to go out and win the next election.  one day you will be able to tell your children and grandchildren as i will tell mine   i was there. i did my bit. i played my part. i helped to win that famous election - the election that transformed our country for the better .  labour election co-ordinator alan milburn said:  michael howard s speech today confirms what we have always said - that his only strategy is opportunism but he has no forward vision for the country. in reference to the appearance of mr howard s family on the conference stage with him  mr milburn said:  michael howard is perfectly entitled to pose with his family today.  but it is the hard working families across britain that will be damaged by his plan to cut £35bn from public spending.\n",
      "output shape: (768,)\n",
      "text: blair prepares to name poll date tony blair is likely to name 5 may as election day when parliament returns from its easter break  the bbc s political editor has learned.  andrew marr says mr blair will ask the queen on 4 or 5 april to dissolve parliament at the end of that week. mr blair has so far resisted calls for him to name the day but all parties have stepped up campaigning recently. downing street would not be drawn on the claim  saying election timing was a matter for the prime minister.  a number 10 spokeswoman would only say:  he will announce an election when he wants to announce an election.  the move will signal a frantic week at westminster as the government is likely to try to get key legislation through parliament. the government needs its finance bill  covering the budget plans  to be passed before the commons closes for business at the end of the session on 7 april.  but it will also seek to push through its serious and organised crime bill and id cards bill. mr marr said on wednesday s today programme:  there s almost nobody at a senior level inside the government or in parliament itself who doesn t expect the election to be called on 4 or 5 april.  as soon as the commons is back after the short easter recess  tony blair whips up to the palace  asks the queen to dissolve parliament ... and we re going.  the labour government officially has until june 2006 to hold general election  but in recent years governments have favoured four-year terms.\n",
      "output shape: (768,)\n",
      "text: henman hopes ended in dubai third seed tim henman slumped to a straight sets defeat in his rain-interrupted dubai open quarter-final against ivan ljubicic.  the croatian eighth seed booked his place in the last four with a 7-5 6-4 victory over the british number one. henman had looked on course to level the match after going 2-0 up in the second set  but his progress was halted as the rain intervened again. ljubicic hit back after the break to seal a fourth straight win over henman. earlier in the day  spanish fifth seed tommy robredo secured his semi-final place when he beat nicolas kiefer of germany 6-4 6-4. afterwards  henman was left cursing the weather and the umpire after seven breaks for rain during the match.  it was incredibly frustrating   henman said.  it s raining and the umpire doesn t take control.  he kept telling us to play till the end of the game. but if it s raining  you come off - the score s irrelevant.  it couldn t be more frustrating as i was very happy with my form until now. you don t expect this in the desert.\n",
      "output shape: (768,)\n",
      "text: wilkinson fit to face edinburgh england captain jonny wilkinson will make his long-awaited return from injury against edinburgh on saturday.  wilkinson  who has not played since injuring his bicep on 17 october  took part in full-contact training with newcastle falcons on wednesday. and the 25-year-old fly-half will start saturday s heineken cup match at murrayfield on the bench. but newcastle director of rugby rob andrew said:  he s fine and we hope to get him into the game at some stage.  the 25-year-old missed england s autumn internationals after aggravating the haematoma in his upper right arm against saracens. he was subsequently replaced as england captain by full-back jason robinson. sale s charlie hodgson took over the number 10 shirt in the internationals against canada  south africa and australia. wilkinson s year has been disrupted by injury as his muscle problem followed eight months on the sidelines with a shoulder injury sustained in the world cup final.\n"
     ]
    },
    {
     "name": "stdout",
     "output_type": "stream",
     "text": [
      "output shape: (768,)\n",
      "text: last star wars  not for children  the sixth and final star wars movie may not be suitable for young children  film-maker george lucas has said.  he told us tv show 60 minutes that revenge of the sith would be the darkest and most violent of the series.  i don t think i would take a five or six-year-old to this   he told the cbs programme  to be aired on sunday. lucas predicted the film would get a us rating advising parents some scenes may be unsuitable for under-13s. it opens in the uk and us on 19 may. he said he expected the film would be classified pg-13 - roughly equivalent to a british 12a rating.  the five previous star wars films have all carried less restrictive pg - parental guidance - ratings in the us. in the uk  they have all been passed u - suitable for all - with the exception of attack of the clones  which got a pg rating in 2002. revenge of the sith - the third prequel to the original 1977 star wars film - chronicles the transformation of the heroic anakin skywalker into the evil darth vader as he travels to a hell-like planet composed of erupting volcanoes and molten lava.  we re going to watch him make a pact with the devil   lucas said.  the film is much more dark  more emotional. it s much more of a tragedy.\n",
      "output shape: (768,)\n",
      "transformed.shape: (10, 768)\n"
     ]
    },
    {
     "data": {
      "text/plain": [
       "[array([[0.94, 0.06],\n",
       "        [0.35, 0.65],\n",
       "        [0.95, 0.05],\n",
       "        [0.86, 0.14],\n",
       "        [0.92, 0.08],\n",
       "        [0.89, 0.11],\n",
       "        [0.92, 0.08],\n",
       "        [0.89, 0.11],\n",
       "        [0.89, 0.11],\n",
       "        [0.89, 0.11]]),\n",
       " array([[0.91, 0.09],\n",
       "        [0.91, 0.09],\n",
       "        [0.89, 0.11],\n",
       "        [0.92, 0.08],\n",
       "        [0.36, 0.64],\n",
       "        [0.8 , 0.2 ],\n",
       "        [0.78, 0.22],\n",
       "        [0.73, 0.27],\n",
       "        [0.76, 0.24],\n",
       "        [0.61, 0.39]]),\n",
       " array([[1.],\n",
       "        [1.],\n",
       "        [1.],\n",
       "        [1.],\n",
       "        [1.],\n",
       "        [1.],\n",
       "        [1.],\n",
       "        [1.],\n",
       "        [1.],\n",
       "        [1.]]),\n",
       " array([[0.87, 0.13],\n",
       "        [0.83, 0.17],\n",
       "        [0.27, 0.73],\n",
       "        [0.25, 0.75],\n",
       "        [0.77, 0.23],\n",
       "        [0.65, 0.35],\n",
       "        [0.61, 0.39],\n",
       "        [0.52, 0.48],\n",
       "        [0.46, 0.54],\n",
       "        [0.66, 0.34]]),\n",
       " array([[0.28, 0.72],\n",
       "        [0.91, 0.09],\n",
       "        [0.89, 0.11],\n",
       "        [0.97, 0.03],\n",
       "        [0.95, 0.05],\n",
       "        [0.66, 0.34],\n",
       "        [0.69, 0.31],\n",
       "        [0.86, 0.14],\n",
       "        [0.89, 0.11],\n",
       "        [0.84, 0.16]])]"
      ]
     },
     "execution_count": 136,
     "metadata": {},
     "output_type": "execute_result"
    }
   ],
   "source": [
    "pipeline.predict_proba(XX[0:10])"
   ]
  },
  {
   "cell_type": "code",
   "execution_count": 135,
   "id": "integrated-facility",
   "metadata": {},
   "outputs": [
    {
     "name": "stdout",
     "output_type": "stream",
     "text": [
      "Transform Called\n",
      "text: tv future in the hands of viewers with home theatre systems  plasma high-definition tvs  and digital video recorders moving into the living room  the way people watch tv will be radically different in five years  time.  that is according to an expert panel which gathered at the annual consumer electronics show in las vegas to discuss how these new technologies will impact one of our favourite pastimes. with the us leading the trend  programmes and other content will be delivered to viewers via home networks  through cable  satellite  telecoms companies  and broadband service providers to front rooms and portable devices.  one of the most talked-about technologies of ces has been digital and personal video recorders (dvr and pvr). these set-top boxes  like the us s tivo and the uk s sky+ system  allow people to record  store  play  pause and forward wind tv programmes when they want.  essentially  the technology allows for much more personalised tv. they are also being built-in to high-definition tv sets  which are big business in japan and the us  but slower to take off in europe because of the lack of high-definition programming. not only can people forward wind through adverts  they can also forget about abiding by network and channel schedules  putting together their own a-la-carte entertainment. but some us networks and cable and satellite companies are worried about what it means for them in terms of advertising revenues as well as  brand identity  and viewer loyalty to channels. although the us leads in this technology at the moment  it is also a concern that is being raised in europe  particularly with the growing uptake of services like sky+.  what happens here today  we will see in nine months to a years  time in the uk   adam hume  the bbc broadcast s futurologist told the bbc news website. for the likes of the bbc  there are no issues of lost advertising revenue yet. it is a more pressing issue at the moment for commercial uk broadcasters  but brand loyalty is important for everyone.  we will be talking more about content brands rather than network brands   said tim hanlon  from brand communications firm starcom mediavest.  the reality is that with broadband connections  anybody can be the producer of content.  he added:  the challenge now is that it is hard to promote a programme with so much choice.   what this means  said stacey jolna  senior vice president of tv guide tv group  is that the way people find the content they want to watch has to be simplified for tv viewers. it means that networks  in us terms  or channels could take a leaf out of google s book and be the search engine of the future  instead of the scheduler to help people find what they want to watch. this kind of channel model might work for the younger ipod generation which is used to taking control of their gadgets and what they play on them. but it might not suit everyone  the panel recognised. older generations are more comfortable with familiar schedules and channel brands because they know what they are getting. they perhaps do not want so much of the choice put into their hands  mr hanlon suggested.  on the other end  you have the kids just out of diapers who are pushing buttons already - everything is possible and available to them   said mr hanlon.  ultimately  the consumer will tell the market they want.   of the 50 000 new gadgets and technologies being showcased at ces  many of them are about enhancing the tv-watching experience. high-definition tv sets are everywhere and many new models of lcd (liquid crystal display) tvs have been launched with dvr capability built into them  instead of being external boxes. one such example launched at the show is humax s 26-inch lcd tv with an 80-hour tivo dvr and dvd recorder. one of the us s biggest satellite tv companies  directtv  has even launched its own branded dvr at the show with 100-hours of recording capability  instant replay  and a search function. the set can pause and rewind tv for up to 90 hours. and microsoft chief bill gates announced in his pre-show keynote speech a partnership with tivo  called tivotogo  which means people can play recorded programmes on windows pcs and mobile devices. all these reflect the increasing trend of freeing up multimedia so that people can watch what they want  when they want.\n",
      "output shape: (768,)\n",
      "text: worldcom boss  left books alone  former worldcom boss bernie ebbers  who is accused of overseeing an $11bn (£5.8bn) fraud  never made accounting decisions  a witness has told jurors.  david myers made the comments under questioning by defence lawyers who have been arguing that mr ebbers was not responsible for worldcom s problems. the phone company collapsed in 2002 and prosecutors claim that losses were hidden to protect the firm s shares. mr myers has already pleaded guilty to fraud and is assisting prosecutors.  on monday  defence lawyer reid weingarten tried to distance his client from the allegations. during cross examination  he asked mr myers if he ever knew mr ebbers  make an accounting decision  .  not that i am aware of   mr myers replied.  did you ever know mr ebbers to make an accounting entry into worldcom books   mr weingarten pressed.  no   replied the witness. mr myers has admitted that he ordered false accounting entries at the request of former worldcom chief financial officer scott sullivan. defence lawyers have been trying to paint mr sullivan  who has admitted fraud and will testify later in the trial  as the mastermind behind worldcom s accounting house of cards.  mr ebbers  team  meanwhile  are looking to portray him as an affable boss  who by his own admission is more pe graduate than economist. whatever his abilities  mr ebbers transformed worldcom from a relative unknown into a $160bn telecoms giant and investor darling of the late 1990s. worldcom s problems mounted  however  as competition increased and the telecoms boom petered out. when the firm finally collapsed  shareholders lost about $180bn and 20 000 workers lost their jobs. mr ebbers  trial is expected to last two months and if found guilty the former ceo faces a substantial jail sentence. he has firmly declared his innocence.\n",
      "output shape: (768,)\n",
      "text: tigers wary of farrell  gamble  leicester say they will not be rushed into making a bid for andy farrell should the great britain rugby league captain decide to switch codes.   we and anybody else involved in the process are still some way away from going to the next stage   tigers boss john wells told bbc radio leicester.  at the moment  there are still a lot of unknowns about andy farrell  not least his medical situation.  whoever does take him on is going to take a big  big gamble.  farrell  who has had persistent knee problems  had an operation on his knee five weeks ago and is expected to be out for another three months. leicester and saracens are believed to head the list of rugby union clubs interested in signing farrell if he decides to move to the 15-man game.  if he does move across to union  wells believes he would better off playing in the backs  at least initially.  i m sure he could make the step between league and union by being involved in the centre   said wells.  i think england would prefer him to progress to a position in the back row where they can make use of some of his rugby league skills within the forwards.  the jury is out on whether he can cross that divide.  at this club  the balance will have to be struck between the cost of that gamble and the option of bringing in a ready-made replacement.\n",
      "output shape: (768,)\n",
      "text: yeading face newcastle in fa cup premiership side newcastle united face a trip to ryman premier league leaders yeading in the fa cup third round.  the game - arguably the highlight of the draw - is a potential money-spinner for non-league yeading  who beat slough in the second round. conference side exeter city  who knocked out doncaster on saturday  will travel to old trafford to meet holders manchester united in january. arsenal were drawn at home to stoke and chelsea will play host to scunthorpe. the only other non-league side in the draw are hinckley united  who held brentford to a goalless draw on sunday. they will meet league one leaders luton if they win their replay against martin allen s team at griffin park.  a number of premiership teams face difficult away games against championship sides on the weekend of 8/9 january. third-placed everton visit plymouth  liverpool travel to burnley  crystal palace go to sunderland  fulham face carling cup semi-finalists watford  bolton meet ipswich  while aston villa were drawn against sheffield united. premiership strugglers norwich  blackburn  west brom are away at west ham  cardiff and preston north end respectively. southampton visit northampton  having already beaten the league two side in the carling cup earlier this season. middlesbrough were drawn away against either swindon or notts county  while spurs entertain brighton at white hart lane.  arsenal v stoke  swindon/notts co v middlesbrough  man utd v exeter  plymouth v everton  leicester v blackpool  derby v wigan  sunderland v crystal palace  wolves v millwall  yeading v newcastle  hull v colchester  tottenham v brighton  reading v stockport/swansea  birmingham v leeds  hartlepool v boston  milton keynes dons v peterborough  oldham v man city  chelsea v scunthorpe  cardiff v blackburn  charlton v rochdale  west ham v norwich  sheff utd v aston villa  preston v west brom  rotherham v yeovil  burnley v liverpool  bournemouth v chester  coventry v crewe  watford v fulham  ipswich v bolton  portsmouth v gillingham  northampton v southampton  qpr v nottm forest  luton v hinckley/brentford  matches to be played on weekend of 8/9 january.\n"
     ]
    },
    {
     "name": "stdout",
     "output_type": "stream",
     "text": [
      "output shape: (768,)\n",
      "text: ocean s twelve raids box office ocean s twelve  the crime caper sequel starring george clooney  brad pitt and julia roberts  has gone straight to number one in the us box office chart.  it took $40.8m (£21m) in weekend ticket sales  according to studio estimates. the sequel follows the master criminals as they try to pull off three major heists across europe. it knocked last week s number one  national treasure  into third place. wesley snipes  blade: trinity was in second  taking $16.1m (£8.4m). rounding out the top five was animated fable the polar express  starring tom hanks  and festive comedy christmas with the kranks.  ocean s twelve box office triumph marks the fourth-biggest opening for a december release in the us  after the three films in the lord of the rings trilogy. the sequel narrowly beat its 2001 predecessor  ocean s eleven which took $38.1m (£19.8m) on its opening weekend and $184m (£95.8m) in total. a remake of the 1960s film  starring frank sinatra and the rat pack  ocean s eleven was directed by oscar-winning director steven soderbergh. soderbergh returns to direct the hit sequel which reunites clooney  pitt and roberts with matt damon  andy garcia and elliott gould. catherine zeta-jones joins the all-star cast.  it s just a fun  good holiday movie   said dan fellman  president of distribution at warner bros. however  us critics were less complimentary about the $110m (£57.2m) project  with the los angeles times labelling it a  dispiriting vanity project . a milder review in the new york times dubbed the sequel  unabashedly trivial .\n",
      "output shape: (768,)\n",
      "text: howard hits back at mongrel jibe michael howard has said a claim by peter hain that the tory leader is acting like an  attack mongrel  shows labour is  rattled  by the opposition.  in an upbeat speech to his party s spring conference in brighton  he said labour s campaigning tactics proved the tories were hitting home. mr hain made the claim about tory tactics in the anti-terror bill debate.  something tells me that someone  somewhere out there is just a little bit rattled   mr howard said. mr hain  leader of the commons  told bbc radio four s today programme that mr howard s stance on the government s anti-terrorism legislation was putting the country at risk. he then accused the tory leader of behaving like an  attack mongrel  and  playing opposition for opposition sake .  mr howard told his party that labour would  do anything  say anything  claim anything to cling on to office at all costs .  so far this year they have compared me to fagin  to shylock and to a flying pig. this morning peter hain even called me a mongrel.  i don t know about you  but something tells me that someone  somewhere out there is just a little bit rattled.  environment secretary margaret beckett rejected mr howard s comment  telling radio 4 s pm programme that labour was not  rattled .  we have a very real duty to try to get people to focus on michael howard s record  what the proposals are that he is trying to put forward to the country and also the many examples we are seeing now of what we believe is really poor judgement on his behalf.   mr howard said tory policies on schools  taxes  immigration and crime were striking a chord with voters.   since the beginning of this year - election year - we ve been making the political weather   he told the party conference. mr howard denied he had been  playing politics  by raising the case of margaret dixon  whose operation had been cancelled seven times  which grabbed headlines for the party two weeks ago. and he hit back at labour claims he had used mrs dixon as a  human shield .  she s not a human shield mr blair  she s a human being.  mr howard said his party plans for immigration quotas  which have also been the focus of much media coverage  were not  racist  - just  common sense .  he pledged cleaner hospitals and better school discipline  with a promise to get rid of  political correctness  in the national curriculum and give everyone to the same chance of a  decent  state education as he had.  i come from an ordinary family. if the teenage michael howard were applying to cambridge today  gordon brown would love me.   and he stressed his party s commitment to cut taxes and red tape and increase the basic state pension in line with earnings. he finished with a personal appeal to party activists to go out and win the next election.  one day you will be able to tell your children and grandchildren as i will tell mine   i was there. i did my bit. i played my part. i helped to win that famous election - the election that transformed our country for the better .  labour election co-ordinator alan milburn said:  michael howard s speech today confirms what we have always said - that his only strategy is opportunism but he has no forward vision for the country. in reference to the appearance of mr howard s family on the conference stage with him  mr milburn said:  michael howard is perfectly entitled to pose with his family today.  but it is the hard working families across britain that will be damaged by his plan to cut £35bn from public spending.\n",
      "output shape: (768,)\n",
      "text: blair prepares to name poll date tony blair is likely to name 5 may as election day when parliament returns from its easter break  the bbc s political editor has learned.  andrew marr says mr blair will ask the queen on 4 or 5 april to dissolve parliament at the end of that week. mr blair has so far resisted calls for him to name the day but all parties have stepped up campaigning recently. downing street would not be drawn on the claim  saying election timing was a matter for the prime minister.  a number 10 spokeswoman would only say:  he will announce an election when he wants to announce an election.  the move will signal a frantic week at westminster as the government is likely to try to get key legislation through parliament. the government needs its finance bill  covering the budget plans  to be passed before the commons closes for business at the end of the session on 7 april.  but it will also seek to push through its serious and organised crime bill and id cards bill. mr marr said on wednesday s today programme:  there s almost nobody at a senior level inside the government or in parliament itself who doesn t expect the election to be called on 4 or 5 april.  as soon as the commons is back after the short easter recess  tony blair whips up to the palace  asks the queen to dissolve parliament ... and we re going.  the labour government officially has until june 2006 to hold general election  but in recent years governments have favoured four-year terms.\n",
      "output shape: (768,)\n",
      "text: henman hopes ended in dubai third seed tim henman slumped to a straight sets defeat in his rain-interrupted dubai open quarter-final against ivan ljubicic.  the croatian eighth seed booked his place in the last four with a 7-5 6-4 victory over the british number one. henman had looked on course to level the match after going 2-0 up in the second set  but his progress was halted as the rain intervened again. ljubicic hit back after the break to seal a fourth straight win over henman. earlier in the day  spanish fifth seed tommy robredo secured his semi-final place when he beat nicolas kiefer of germany 6-4 6-4. afterwards  henman was left cursing the weather and the umpire after seven breaks for rain during the match.  it was incredibly frustrating   henman said.  it s raining and the umpire doesn t take control.  he kept telling us to play till the end of the game. but if it s raining  you come off - the score s irrelevant.  it couldn t be more frustrating as i was very happy with my form until now. you don t expect this in the desert.\n",
      "output shape: (768,)\n",
      "text: wilkinson fit to face edinburgh england captain jonny wilkinson will make his long-awaited return from injury against edinburgh on saturday.  wilkinson  who has not played since injuring his bicep on 17 october  took part in full-contact training with newcastle falcons on wednesday. and the 25-year-old fly-half will start saturday s heineken cup match at murrayfield on the bench. but newcastle director of rugby rob andrew said:  he s fine and we hope to get him into the game at some stage.  the 25-year-old missed england s autumn internationals after aggravating the haematoma in his upper right arm against saracens. he was subsequently replaced as england captain by full-back jason robinson. sale s charlie hodgson took over the number 10 shirt in the internationals against canada  south africa and australia. wilkinson s year has been disrupted by injury as his muscle problem followed eight months on the sidelines with a shoulder injury sustained in the world cup final.\n"
     ]
    },
    {
     "name": "stdout",
     "output_type": "stream",
     "text": [
      "output shape: (768,)\n",
      "text: last star wars  not for children  the sixth and final star wars movie may not be suitable for young children  film-maker george lucas has said.  he told us tv show 60 minutes that revenge of the sith would be the darkest and most violent of the series.  i don t think i would take a five or six-year-old to this   he told the cbs programme  to be aired on sunday. lucas predicted the film would get a us rating advising parents some scenes may be unsuitable for under-13s. it opens in the uk and us on 19 may. he said he expected the film would be classified pg-13 - roughly equivalent to a british 12a rating.  the five previous star wars films have all carried less restrictive pg - parental guidance - ratings in the us. in the uk  they have all been passed u - suitable for all - with the exception of attack of the clones  which got a pg rating in 2002. revenge of the sith - the third prequel to the original 1977 star wars film - chronicles the transformation of the heroic anakin skywalker into the evil darth vader as he travels to a hell-like planet composed of erupting volcanoes and molten lava.  we re going to watch him make a pact with the devil   lucas said.  the film is much more dark  more emotional. it s much more of a tragedy.\n",
      "output shape: (768,)\n",
      "transformed.shape: (10, 768)\n"
     ]
    },
    {
     "data": {
      "text/plain": [
       "[array([[0.94, 0.06],\n",
       "        [0.35, 0.65],\n",
       "        [0.95, 0.05],\n",
       "        [0.86, 0.14],\n",
       "        [0.92, 0.08],\n",
       "        [0.89, 0.11],\n",
       "        [0.92, 0.08],\n",
       "        [0.89, 0.11],\n",
       "        [0.89, 0.11],\n",
       "        [0.89, 0.11]]),\n",
       " array([[0.91, 0.09],\n",
       "        [0.91, 0.09],\n",
       "        [0.89, 0.11],\n",
       "        [0.92, 0.08],\n",
       "        [0.36, 0.64],\n",
       "        [0.8 , 0.2 ],\n",
       "        [0.78, 0.22],\n",
       "        [0.73, 0.27],\n",
       "        [0.76, 0.24],\n",
       "        [0.61, 0.39]]),\n",
       " array([[1.],\n",
       "        [1.],\n",
       "        [1.],\n",
       "        [1.],\n",
       "        [1.],\n",
       "        [1.],\n",
       "        [1.],\n",
       "        [1.],\n",
       "        [1.],\n",
       "        [1.]]),\n",
       " array([[0.87, 0.13],\n",
       "        [0.83, 0.17],\n",
       "        [0.27, 0.73],\n",
       "        [0.25, 0.75],\n",
       "        [0.77, 0.23],\n",
       "        [0.65, 0.35],\n",
       "        [0.61, 0.39],\n",
       "        [0.52, 0.48],\n",
       "        [0.46, 0.54],\n",
       "        [0.66, 0.34]]),\n",
       " array([[0.28, 0.72],\n",
       "        [0.91, 0.09],\n",
       "        [0.89, 0.11],\n",
       "        [0.97, 0.03],\n",
       "        [0.95, 0.05],\n",
       "        [0.66, 0.34],\n",
       "        [0.69, 0.31],\n",
       "        [0.86, 0.14],\n",
       "        [0.89, 0.11],\n",
       "        [0.84, 0.16]])]"
      ]
     },
     "execution_count": 135,
     "metadata": {},
     "output_type": "execute_result"
    }
   ],
   "source": [
    "pipeline.predict_proba(XX[0:10])"
   ]
  },
  {
   "cell_type": "code",
   "execution_count": 130,
   "id": "periodic-password",
   "metadata": {},
   "outputs": [
    {
     "data": {
      "text/plain": [
       "array([[0, 0, 0, 0, 1],\n",
       "       [1, 0, 0, 0, 0],\n",
       "       [0, 0, 0, 1, 0],\n",
       "       [0, 0, 0, 1, 0],\n",
       "       [0, 1, 0, 0, 0],\n",
       "       [0, 0, 1, 0, 0],\n",
       "       [0, 0, 1, 0, 0],\n",
       "       [0, 0, 0, 1, 0],\n",
       "       [0, 0, 0, 1, 0],\n",
       "       [0, 1, 0, 0, 0]], dtype=uint8)"
      ]
     },
     "execution_count": 130,
     "metadata": {},
     "output_type": "execute_result"
    }
   ],
   "source": [
    "y.iloc[0:10].values"
   ]
  },
  {
   "cell_type": "code",
   "execution_count": 100,
   "id": "dated-jesus",
   "metadata": {},
   "outputs": [
    {
     "data": {
      "text/plain": [
       "['tv future in the hands of viewers with home theatre systems  plasma high-definition tvs  and digital video recorders moving into the living room  the way people watch tv will be radically different in five years  time.  that is according to an expert panel which gathered at the annual consumer electronics show in las vegas to discuss how these new technologies will impact one of our favourite pastimes. with the us leading the trend  programmes and other content will be delivered to viewers via home networks  through cable  satellite  telecoms companies  and broadband service providers to front rooms and portable devices.  one of the most talked-about technologies of ces has been digital and personal video recorders (dvr and pvr). these set-top boxes  like the us s tivo and the uk s sky+ system  allow people to record  store  play  pause and forward wind tv programmes when they want.  essentially  the technology allows for much more personalised tv. they are also being built-in to high-definition tv sets  which are big business in japan and the us  but slower to take off in europe because of the lack of high-definition programming. not only can people forward wind through adverts  they can also forget about abiding by network and channel schedules  putting together their own a-la-carte entertainment. but some us networks and cable and satellite companies are worried about what it means for them in terms of advertising revenues as well as  brand identity  and viewer loyalty to channels. although the us leads in this technology at the moment  it is also a concern that is being raised in europe  particularly with the growing uptake of services like sky+.  what happens here today  we will see in nine months to a years  time in the uk   adam hume  the bbc broadcast s futurologist told the bbc news website. for the likes of the bbc  there are no issues of lost advertising revenue yet. it is a more pressing issue at the moment for commercial uk broadcasters  but brand loyalty is important for everyone.  we will be talking more about content brands rather than network brands   said tim hanlon  from brand communications firm starcom mediavest.  the reality is that with broadband connections  anybody can be the producer of content.  he added:  the challenge now is that it is hard to promote a programme with so much choice.   what this means  said stacey jolna  senior vice president of tv guide tv group  is that the way people find the content they want to watch has to be simplified for tv viewers. it means that networks  in us terms  or channels could take a leaf out of google s book and be the search engine of the future  instead of the scheduler to help people find what they want to watch. this kind of channel model might work for the younger ipod generation which is used to taking control of their gadgets and what they play on them. but it might not suit everyone  the panel recognised. older generations are more comfortable with familiar schedules and channel brands because they know what they are getting. they perhaps do not want so much of the choice put into their hands  mr hanlon suggested.  on the other end  you have the kids just out of diapers who are pushing buttons already - everything is possible and available to them   said mr hanlon.  ultimately  the consumer will tell the market they want.   of the 50 000 new gadgets and technologies being showcased at ces  many of them are about enhancing the tv-watching experience. high-definition tv sets are everywhere and many new models of lcd (liquid crystal display) tvs have been launched with dvr capability built into them  instead of being external boxes. one such example launched at the show is humax s 26-inch lcd tv with an 80-hour tivo dvr and dvd recorder. one of the us s biggest satellite tv companies  directtv  has even launched its own branded dvr at the show with 100-hours of recording capability  instant replay  and a search function. the set can pause and rewind tv for up to 90 hours. and microsoft chief bill gates announced in his pre-show keynote speech a partnership with tivo  called tivotogo  which means people can play recorded programmes on windows pcs and mobile devices. all these reflect the increasing trend of freeing up multimedia so that people can watch what they want  when they want.',\n",
       " 'worldcom boss  left books alone  former worldcom boss bernie ebbers  who is accused of overseeing an $11bn (£5.8bn) fraud  never made accounting decisions  a witness has told jurors.  david myers made the comments under questioning by defence lawyers who have been arguing that mr ebbers was not responsible for worldcom s problems. the phone company collapsed in 2002 and prosecutors claim that losses were hidden to protect the firm s shares. mr myers has already pleaded guilty to fraud and is assisting prosecutors.  on monday  defence lawyer reid weingarten tried to distance his client from the allegations. during cross examination  he asked mr myers if he ever knew mr ebbers  make an accounting decision  .  not that i am aware of   mr myers replied.  did you ever know mr ebbers to make an accounting entry into worldcom books   mr weingarten pressed.  no   replied the witness. mr myers has admitted that he ordered false accounting entries at the request of former worldcom chief financial officer scott sullivan. defence lawyers have been trying to paint mr sullivan  who has admitted fraud and will testify later in the trial  as the mastermind behind worldcom s accounting house of cards.  mr ebbers  team  meanwhile  are looking to portray him as an affable boss  who by his own admission is more pe graduate than economist. whatever his abilities  mr ebbers transformed worldcom from a relative unknown into a $160bn telecoms giant and investor darling of the late 1990s. worldcom s problems mounted  however  as competition increased and the telecoms boom petered out. when the firm finally collapsed  shareholders lost about $180bn and 20 000 workers lost their jobs. mr ebbers  trial is expected to last two months and if found guilty the former ceo faces a substantial jail sentence. he has firmly declared his innocence.']"
      ]
     },
     "execution_count": 100,
     "metadata": {},
     "output_type": "execute_result"
    }
   ],
   "source": [
    "XX[0:2]"
   ]
  },
  {
   "cell_type": "code",
   "execution_count": null,
   "id": "varying-private",
   "metadata": {},
   "outputs": [],
   "source": []
  }
 ],
 "metadata": {
  "kernelspec": {
   "display_name": "Python 3",
   "language": "python",
   "name": "python3"
  },
  "language_info": {
   "codemirror_mode": {
    "name": "ipython",
    "version": 3
   },
   "file_extension": ".py",
   "mimetype": "text/x-python",
   "name": "python",
   "nbconvert_exporter": "python",
   "pygments_lexer": "ipython3",
   "version": "3.8.5"
  }
 },
 "nbformat": 4,
 "nbformat_minor": 5
}
